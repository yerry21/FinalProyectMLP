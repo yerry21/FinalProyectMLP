{
 "cells": [
  {
   "cell_type": "code",
   "execution_count": 1,
   "id": "ca80bbdc",
   "metadata": {},
   "outputs": [],
   "source": [
    "#Import libraries as needed\n",
    "\n",
    "import os\n",
    "import sys\n",
    "import numpy as np\n",
    "import pandas as pd\n",
    "import seaborn as sns\n",
    "import matplotlib.pyplot as plt\n",
    "from sklearn import datasets\n",
    "from sklearn.metrics import confusion_matrix\n",
    "from sklearn.model_selection import GridSearchCV\n",
    "from sklearn.model_selection import RandomizedSearchCV\n",
    "from sklearn.model_selection import train_test_split\n",
    "from sklearn.model_selection import learning_curve\n",
    "from sklearn import preprocessing\n",
    "from sklearn.metrics import accuracy_score, recall_score, precision_score, f1_score, confusion_matrix, classification_report, roc_auc_score, plot_confusion_matrix, plot_roc_curve, plot_precision_recall_curve\n",
    "from xgboost import XGBClassifier\n",
    "from sklearn.tree import DecisionTreeClassifier\n",
    "from sklearn.ensemble import RandomForestClassifier\n",
    "from sklearn.ensemble import RandomForestRegressor\n",
    "from sklearn import preprocessing\n",
    "from sklearn.preprocessing import StandardScaler\n",
    "\n",
    "\n",
    "module_path = os.path.abspath(os.path.join('..'))\n",
    "if module_path not in sys.path:\n",
    "    sys.path.append(module_path)\n",
    "    \n",
    "from src.feature_importance_plot import feature_importance_plot\n",
    "from src.learning_curve_plot import learning_curve_plot\n"
   ]
  },
  {
   "cell_type": "markdown",
   "id": "dc331772",
   "metadata": {},
   "source": [
    "# Read and explore de data"
   ]
  },
  {
   "cell_type": "code",
   "execution_count": 2,
   "id": "34f06f7e",
   "metadata": {},
   "outputs": [
    {
     "data": {
      "text/html": [
       "<div>\n",
       "<style scoped>\n",
       "    .dataframe tbody tr th:only-of-type {\n",
       "        vertical-align: middle;\n",
       "    }\n",
       "\n",
       "    .dataframe tbody tr th {\n",
       "        vertical-align: top;\n",
       "    }\n",
       "\n",
       "    .dataframe thead th {\n",
       "        text-align: right;\n",
       "    }\n",
       "</style>\n",
       "<table border=\"1\" class=\"dataframe\">\n",
       "  <thead>\n",
       "    <tr style=\"text-align: right;\">\n",
       "      <th></th>\n",
       "      <th>filename</th>\n",
       "      <th>tempo</th>\n",
       "      <th>beats</th>\n",
       "      <th>chroma_stft</th>\n",
       "      <th>spectral_centroid</th>\n",
       "      <th>spectral_bandwidth</th>\n",
       "      <th>rolloff</th>\n",
       "      <th>zero_crossing_rate</th>\n",
       "      <th>mfcc1</th>\n",
       "      <th>mfcc2</th>\n",
       "      <th>...</th>\n",
       "      <th>mfcc12</th>\n",
       "      <th>mfcc13</th>\n",
       "      <th>mfcc14</th>\n",
       "      <th>mfcc15</th>\n",
       "      <th>mfcc16</th>\n",
       "      <th>mfcc17</th>\n",
       "      <th>mfcc18</th>\n",
       "      <th>mfcc19</th>\n",
       "      <th>mfcc20</th>\n",
       "      <th>label</th>\n",
       "    </tr>\n",
       "  </thead>\n",
       "  <tbody>\n",
       "    <tr>\n",
       "      <th>0</th>\n",
       "      <td>blues.00081.au</td>\n",
       "      <td>103.359375</td>\n",
       "      <td>50</td>\n",
       "      <td>0.380260</td>\n",
       "      <td>2116.942959</td>\n",
       "      <td>1956.611056</td>\n",
       "      <td>4196.107960</td>\n",
       "      <td>0.127272</td>\n",
       "      <td>-26.929785</td>\n",
       "      <td>107.334008</td>\n",
       "      <td>...</td>\n",
       "      <td>14.336612</td>\n",
       "      <td>-13.821769</td>\n",
       "      <td>7.562789</td>\n",
       "      <td>-6.181372</td>\n",
       "      <td>0.330165</td>\n",
       "      <td>-6.829571</td>\n",
       "      <td>0.965922</td>\n",
       "      <td>-7.570825</td>\n",
       "      <td>2.918987</td>\n",
       "      <td>blues</td>\n",
       "    </tr>\n",
       "    <tr>\n",
       "      <th>1</th>\n",
       "      <td>blues.00022.au</td>\n",
       "      <td>95.703125</td>\n",
       "      <td>44</td>\n",
       "      <td>0.306451</td>\n",
       "      <td>1156.070496</td>\n",
       "      <td>1497.668176</td>\n",
       "      <td>2170.053545</td>\n",
       "      <td>0.058613</td>\n",
       "      <td>-233.860772</td>\n",
       "      <td>136.170239</td>\n",
       "      <td>...</td>\n",
       "      <td>-2.250578</td>\n",
       "      <td>3.959198</td>\n",
       "      <td>5.322555</td>\n",
       "      <td>0.812028</td>\n",
       "      <td>-1.107202</td>\n",
       "      <td>-4.556555</td>\n",
       "      <td>-2.436490</td>\n",
       "      <td>3.316913</td>\n",
       "      <td>-0.608485</td>\n",
       "      <td>blues</td>\n",
       "    </tr>\n",
       "    <tr>\n",
       "      <th>2</th>\n",
       "      <td>blues.00031.au</td>\n",
       "      <td>151.999081</td>\n",
       "      <td>75</td>\n",
       "      <td>0.253487</td>\n",
       "      <td>1331.073970</td>\n",
       "      <td>1973.643437</td>\n",
       "      <td>2900.174130</td>\n",
       "      <td>0.042967</td>\n",
       "      <td>-221.802549</td>\n",
       "      <td>110.843070</td>\n",
       "      <td>...</td>\n",
       "      <td>-13.037723</td>\n",
       "      <td>-12.652228</td>\n",
       "      <td>-1.821905</td>\n",
       "      <td>-7.260097</td>\n",
       "      <td>-6.660252</td>\n",
       "      <td>-14.682694</td>\n",
       "      <td>-11.719264</td>\n",
       "      <td>-11.025216</td>\n",
       "      <td>-13.387260</td>\n",
       "      <td>blues</td>\n",
       "    </tr>\n",
       "    <tr>\n",
       "      <th>3</th>\n",
       "      <td>blues.00012.au</td>\n",
       "      <td>184.570312</td>\n",
       "      <td>91</td>\n",
       "      <td>0.269320</td>\n",
       "      <td>1361.045467</td>\n",
       "      <td>1567.804596</td>\n",
       "      <td>2739.625101</td>\n",
       "      <td>0.069124</td>\n",
       "      <td>-207.208080</td>\n",
       "      <td>132.799175</td>\n",
       "      <td>...</td>\n",
       "      <td>-0.613248</td>\n",
       "      <td>0.384877</td>\n",
       "      <td>2.605128</td>\n",
       "      <td>-5.188924</td>\n",
       "      <td>-9.527455</td>\n",
       "      <td>-9.244394</td>\n",
       "      <td>-2.848274</td>\n",
       "      <td>-1.418707</td>\n",
       "      <td>-5.932607</td>\n",
       "      <td>blues</td>\n",
       "    </tr>\n",
       "    <tr>\n",
       "      <th>4</th>\n",
       "      <td>blues.00056.au</td>\n",
       "      <td>161.499023</td>\n",
       "      <td>74</td>\n",
       "      <td>0.391059</td>\n",
       "      <td>1811.076084</td>\n",
       "      <td>2052.332563</td>\n",
       "      <td>3927.809582</td>\n",
       "      <td>0.075480</td>\n",
       "      <td>-145.434568</td>\n",
       "      <td>102.829023</td>\n",
       "      <td>...</td>\n",
       "      <td>7.457218</td>\n",
       "      <td>-10.470444</td>\n",
       "      <td>-2.360483</td>\n",
       "      <td>-6.783623</td>\n",
       "      <td>2.671134</td>\n",
       "      <td>-4.760879</td>\n",
       "      <td>-0.949005</td>\n",
       "      <td>0.024832</td>\n",
       "      <td>-2.005315</td>\n",
       "      <td>blues</td>\n",
       "    </tr>\n",
       "  </tbody>\n",
       "</table>\n",
       "<p>5 rows × 29 columns</p>\n",
       "</div>"
      ],
      "text/plain": [
       "         filename       tempo  beats  chroma_stft  spectral_centroid  \\\n",
       "0  blues.00081.au  103.359375     50     0.380260        2116.942959   \n",
       "1  blues.00022.au   95.703125     44     0.306451        1156.070496   \n",
       "2  blues.00031.au  151.999081     75     0.253487        1331.073970   \n",
       "3  blues.00012.au  184.570312     91     0.269320        1361.045467   \n",
       "4  blues.00056.au  161.499023     74     0.391059        1811.076084   \n",
       "\n",
       "   spectral_bandwidth      rolloff  zero_crossing_rate       mfcc1  \\\n",
       "0         1956.611056  4196.107960            0.127272  -26.929785   \n",
       "1         1497.668176  2170.053545            0.058613 -233.860772   \n",
       "2         1973.643437  2900.174130            0.042967 -221.802549   \n",
       "3         1567.804596  2739.625101            0.069124 -207.208080   \n",
       "4         2052.332563  3927.809582            0.075480 -145.434568   \n",
       "\n",
       "        mfcc2  ...     mfcc12     mfcc13    mfcc14    mfcc15    mfcc16  \\\n",
       "0  107.334008  ...  14.336612 -13.821769  7.562789 -6.181372  0.330165   \n",
       "1  136.170239  ...  -2.250578   3.959198  5.322555  0.812028 -1.107202   \n",
       "2  110.843070  ... -13.037723 -12.652228 -1.821905 -7.260097 -6.660252   \n",
       "3  132.799175  ...  -0.613248   0.384877  2.605128 -5.188924 -9.527455   \n",
       "4  102.829023  ...   7.457218 -10.470444 -2.360483 -6.783623  2.671134   \n",
       "\n",
       "      mfcc17     mfcc18     mfcc19     mfcc20  label  \n",
       "0  -6.829571   0.965922  -7.570825   2.918987  blues  \n",
       "1  -4.556555  -2.436490   3.316913  -0.608485  blues  \n",
       "2 -14.682694 -11.719264 -11.025216 -13.387260  blues  \n",
       "3  -9.244394  -2.848274  -1.418707  -5.932607  blues  \n",
       "4  -4.760879  -0.949005   0.024832  -2.005315  blues  \n",
       "\n",
       "[5 rows x 29 columns]"
      ]
     },
     "execution_count": 2,
     "metadata": {},
     "output_type": "execute_result"
    }
   ],
   "source": [
    "#Read data file\n",
    "\n",
    "audio = pd.read_csv(\"../data/audio_data_w_genres.csv\")\n",
    "audio.head()"
   ]
  },
  {
   "cell_type": "code",
   "execution_count": 3,
   "id": "8ffd0690",
   "metadata": {},
   "outputs": [
    {
     "data": {
      "text/html": [
       "<div>\n",
       "<style scoped>\n",
       "    .dataframe tbody tr th:only-of-type {\n",
       "        vertical-align: middle;\n",
       "    }\n",
       "\n",
       "    .dataframe tbody tr th {\n",
       "        vertical-align: top;\n",
       "    }\n",
       "\n",
       "    .dataframe thead th {\n",
       "        text-align: right;\n",
       "    }\n",
       "</style>\n",
       "<table border=\"1\" class=\"dataframe\">\n",
       "  <thead>\n",
       "    <tr style=\"text-align: right;\">\n",
       "      <th></th>\n",
       "      <th>tempo</th>\n",
       "      <th>beats</th>\n",
       "      <th>chroma_stft</th>\n",
       "      <th>spectral_centroid</th>\n",
       "      <th>spectral_bandwidth</th>\n",
       "      <th>rolloff</th>\n",
       "      <th>zero_crossing_rate</th>\n",
       "      <th>mfcc1</th>\n",
       "      <th>mfcc2</th>\n",
       "      <th>mfcc3</th>\n",
       "      <th>...</th>\n",
       "      <th>mfcc12</th>\n",
       "      <th>mfcc13</th>\n",
       "      <th>mfcc14</th>\n",
       "      <th>mfcc15</th>\n",
       "      <th>mfcc16</th>\n",
       "      <th>mfcc17</th>\n",
       "      <th>mfcc18</th>\n",
       "      <th>mfcc19</th>\n",
       "      <th>mfcc20</th>\n",
       "      <th>label</th>\n",
       "    </tr>\n",
       "  </thead>\n",
       "  <tbody>\n",
       "    <tr>\n",
       "      <th>0</th>\n",
       "      <td>103.359375</td>\n",
       "      <td>50</td>\n",
       "      <td>0.380260</td>\n",
       "      <td>2116.942959</td>\n",
       "      <td>1956.611056</td>\n",
       "      <td>4196.107960</td>\n",
       "      <td>0.127272</td>\n",
       "      <td>-26.929785</td>\n",
       "      <td>107.334008</td>\n",
       "      <td>-46.809993</td>\n",
       "      <td>...</td>\n",
       "      <td>14.336612</td>\n",
       "      <td>-13.821769</td>\n",
       "      <td>7.562789</td>\n",
       "      <td>-6.181372</td>\n",
       "      <td>0.330165</td>\n",
       "      <td>-6.829571</td>\n",
       "      <td>0.965922</td>\n",
       "      <td>-7.570825</td>\n",
       "      <td>2.918987</td>\n",
       "      <td>blues</td>\n",
       "    </tr>\n",
       "    <tr>\n",
       "      <th>1</th>\n",
       "      <td>95.703125</td>\n",
       "      <td>44</td>\n",
       "      <td>0.306451</td>\n",
       "      <td>1156.070496</td>\n",
       "      <td>1497.668176</td>\n",
       "      <td>2170.053545</td>\n",
       "      <td>0.058613</td>\n",
       "      <td>-233.860772</td>\n",
       "      <td>136.170239</td>\n",
       "      <td>3.289490</td>\n",
       "      <td>...</td>\n",
       "      <td>-2.250578</td>\n",
       "      <td>3.959198</td>\n",
       "      <td>5.322555</td>\n",
       "      <td>0.812028</td>\n",
       "      <td>-1.107202</td>\n",
       "      <td>-4.556555</td>\n",
       "      <td>-2.436490</td>\n",
       "      <td>3.316913</td>\n",
       "      <td>-0.608485</td>\n",
       "      <td>blues</td>\n",
       "    </tr>\n",
       "    <tr>\n",
       "      <th>2</th>\n",
       "      <td>151.999081</td>\n",
       "      <td>75</td>\n",
       "      <td>0.253487</td>\n",
       "      <td>1331.073970</td>\n",
       "      <td>1973.643437</td>\n",
       "      <td>2900.174130</td>\n",
       "      <td>0.042967</td>\n",
       "      <td>-221.802549</td>\n",
       "      <td>110.843070</td>\n",
       "      <td>18.620984</td>\n",
       "      <td>...</td>\n",
       "      <td>-13.037723</td>\n",
       "      <td>-12.652228</td>\n",
       "      <td>-1.821905</td>\n",
       "      <td>-7.260097</td>\n",
       "      <td>-6.660252</td>\n",
       "      <td>-14.682694</td>\n",
       "      <td>-11.719264</td>\n",
       "      <td>-11.025216</td>\n",
       "      <td>-13.387260</td>\n",
       "      <td>blues</td>\n",
       "    </tr>\n",
       "    <tr>\n",
       "      <th>3</th>\n",
       "      <td>184.570312</td>\n",
       "      <td>91</td>\n",
       "      <td>0.269320</td>\n",
       "      <td>1361.045467</td>\n",
       "      <td>1567.804596</td>\n",
       "      <td>2739.625101</td>\n",
       "      <td>0.069124</td>\n",
       "      <td>-207.208080</td>\n",
       "      <td>132.799175</td>\n",
       "      <td>-15.438986</td>\n",
       "      <td>...</td>\n",
       "      <td>-0.613248</td>\n",
       "      <td>0.384877</td>\n",
       "      <td>2.605128</td>\n",
       "      <td>-5.188924</td>\n",
       "      <td>-9.527455</td>\n",
       "      <td>-9.244394</td>\n",
       "      <td>-2.848274</td>\n",
       "      <td>-1.418707</td>\n",
       "      <td>-5.932607</td>\n",
       "      <td>blues</td>\n",
       "    </tr>\n",
       "    <tr>\n",
       "      <th>4</th>\n",
       "      <td>161.499023</td>\n",
       "      <td>74</td>\n",
       "      <td>0.391059</td>\n",
       "      <td>1811.076084</td>\n",
       "      <td>2052.332563</td>\n",
       "      <td>3927.809582</td>\n",
       "      <td>0.075480</td>\n",
       "      <td>-145.434568</td>\n",
       "      <td>102.829023</td>\n",
       "      <td>-12.517677</td>\n",
       "      <td>...</td>\n",
       "      <td>7.457218</td>\n",
       "      <td>-10.470444</td>\n",
       "      <td>-2.360483</td>\n",
       "      <td>-6.783623</td>\n",
       "      <td>2.671134</td>\n",
       "      <td>-4.760879</td>\n",
       "      <td>-0.949005</td>\n",
       "      <td>0.024832</td>\n",
       "      <td>-2.005315</td>\n",
       "      <td>blues</td>\n",
       "    </tr>\n",
       "  </tbody>\n",
       "</table>\n",
       "<p>5 rows × 28 columns</p>\n",
       "</div>"
      ],
      "text/plain": [
       "        tempo  beats  chroma_stft  spectral_centroid  spectral_bandwidth  \\\n",
       "0  103.359375     50     0.380260        2116.942959         1956.611056   \n",
       "1   95.703125     44     0.306451        1156.070496         1497.668176   \n",
       "2  151.999081     75     0.253487        1331.073970         1973.643437   \n",
       "3  184.570312     91     0.269320        1361.045467         1567.804596   \n",
       "4  161.499023     74     0.391059        1811.076084         2052.332563   \n",
       "\n",
       "       rolloff  zero_crossing_rate       mfcc1       mfcc2      mfcc3  ...  \\\n",
       "0  4196.107960            0.127272  -26.929785  107.334008 -46.809993  ...   \n",
       "1  2170.053545            0.058613 -233.860772  136.170239   3.289490  ...   \n",
       "2  2900.174130            0.042967 -221.802549  110.843070  18.620984  ...   \n",
       "3  2739.625101            0.069124 -207.208080  132.799175 -15.438986  ...   \n",
       "4  3927.809582            0.075480 -145.434568  102.829023 -12.517677  ...   \n",
       "\n",
       "      mfcc12     mfcc13    mfcc14    mfcc15    mfcc16     mfcc17     mfcc18  \\\n",
       "0  14.336612 -13.821769  7.562789 -6.181372  0.330165  -6.829571   0.965922   \n",
       "1  -2.250578   3.959198  5.322555  0.812028 -1.107202  -4.556555  -2.436490   \n",
       "2 -13.037723 -12.652228 -1.821905 -7.260097 -6.660252 -14.682694 -11.719264   \n",
       "3  -0.613248   0.384877  2.605128 -5.188924 -9.527455  -9.244394  -2.848274   \n",
       "4   7.457218 -10.470444 -2.360483 -6.783623  2.671134  -4.760879  -0.949005   \n",
       "\n",
       "      mfcc19     mfcc20  label  \n",
       "0  -7.570825   2.918987  blues  \n",
       "1   3.316913  -0.608485  blues  \n",
       "2 -11.025216 -13.387260  blues  \n",
       "3  -1.418707  -5.932607  blues  \n",
       "4   0.024832  -2.005315  blues  \n",
       "\n",
       "[5 rows x 28 columns]"
      ]
     },
     "execution_count": 3,
     "metadata": {},
     "output_type": "execute_result"
    }
   ],
   "source": [
    "#Drop Filename, unnecessary \n",
    "\n",
    "audio = audio.drop(labels='filename',axis=1)\n",
    "audio.head()"
   ]
  },
  {
   "cell_type": "code",
   "execution_count": 4,
   "id": "c4a721c7",
   "metadata": {},
   "outputs": [
    {
     "name": "stdout",
     "output_type": "stream",
     "text": [
      "<class 'pandas.core.frame.DataFrame'>\n",
      "RangeIndex: 1003 entries, 0 to 1002\n",
      "Data columns (total 28 columns):\n",
      " #   Column              Non-Null Count  Dtype  \n",
      "---  ------              --------------  -----  \n",
      " 0   tempo               1003 non-null   float64\n",
      " 1   beats               1003 non-null   int64  \n",
      " 2   chroma_stft         1003 non-null   float64\n",
      " 3   spectral_centroid   1003 non-null   float64\n",
      " 4   spectral_bandwidth  1003 non-null   float64\n",
      " 5   rolloff             1003 non-null   float64\n",
      " 6   zero_crossing_rate  1003 non-null   float64\n",
      " 7   mfcc1               1003 non-null   float64\n",
      " 8   mfcc2               1003 non-null   float64\n",
      " 9   mfcc3               1003 non-null   float64\n",
      " 10  mfcc4               1003 non-null   float64\n",
      " 11  mfcc5               1003 non-null   float64\n",
      " 12  mfcc6               1003 non-null   float64\n",
      " 13  mfcc7               1003 non-null   float64\n",
      " 14  mfcc8               1003 non-null   float64\n",
      " 15  mfcc9               1003 non-null   float64\n",
      " 16  mfcc10              1003 non-null   float64\n",
      " 17  mfcc11              1003 non-null   float64\n",
      " 18  mfcc12              1003 non-null   float64\n",
      " 19  mfcc13              1003 non-null   float64\n",
      " 20  mfcc14              1003 non-null   float64\n",
      " 21  mfcc15              1003 non-null   float64\n",
      " 22  mfcc16              1003 non-null   float64\n",
      " 23  mfcc17              1003 non-null   float64\n",
      " 24  mfcc18              1003 non-null   float64\n",
      " 25  mfcc19              1003 non-null   float64\n",
      " 26  mfcc20              1003 non-null   float64\n",
      " 27  label               1003 non-null   object \n",
      "dtypes: float64(26), int64(1), object(1)\n",
      "memory usage: 219.5+ KB\n"
     ]
    }
   ],
   "source": [
    "audio.info()"
   ]
  },
  {
   "cell_type": "code",
   "execution_count": 5,
   "id": "6df3f299",
   "metadata": {},
   "outputs": [
    {
     "data": {
      "text/plain": [
       "<AxesSubplot:xlabel='label', ylabel='beats'>"
      ]
     },
     "execution_count": 5,
     "metadata": {},
     "output_type": "execute_result"
    },
    {
     "data": {
      "image/png": "[encoded data removed]",
      "text/plain": [
       "<Figure size 432x288 with 1 Axes>"
      ]
     },
     "metadata": {
      "needs_background": "light"
     },
     "output_type": "display_data"
    }
   ],
   "source": [
    "#Boxplot with the beats\n",
    "sns.boxplot(x= 'label', y='beats', data=audio)"
   ]
  },
  {
   "cell_type": "code",
   "execution_count": 6,
   "id": "03091fe1",
   "metadata": {},
   "outputs": [
    {
     "data": {
      "text/plain": [
       "<AxesSubplot:xlabel='label', ylabel='tempo'>"
      ]
     },
     "execution_count": 6,
     "metadata": {},
     "output_type": "execute_result"
    },
    {
     "data": {
      "image/png": "[encoded data removed]",
      "text/plain": [
       "<Figure size 432x288 with 1 Axes>"
      ]
     },
     "metadata": {
      "needs_background": "light"
     },
     "output_type": "display_data"
    }
   ],
   "source": [
    "#Boxplot with the tempo\n",
    "sns.boxplot(x= 'label', y='tempo', data=audio)"
   ]
  },
  {
   "cell_type": "code",
   "execution_count": 7,
   "id": "6faee1f5",
   "metadata": {},
   "outputs": [
    {
     "data": {
      "text/plain": [
       "<AxesSubplot:xlabel='label', ylabel='spectral_bandwidth'>"
      ]
     },
     "execution_count": 7,
     "metadata": {},
     "output_type": "execute_result"
    },
    {
     "data": {
      "image/png": "[encoded data removed]",
      "text/plain": [
       "<Figure size 432x288 with 1 Axes>"
      ]
     },
     "metadata": {
      "needs_background": "light"
     },
     "output_type": "display_data"
    }
   ],
   "source": [
    "#Boxplot with the spectral_bandwidth\n",
    "sns.boxplot(x= 'label', y='spectral_bandwidth', data=audio)"
   ]
  },
  {
   "cell_type": "code",
   "execution_count": 8,
   "id": "204f30d9",
   "metadata": {},
   "outputs": [
    {
     "data": {
      "text/html": [
       "<div>\n",
       "<style scoped>\n",
       "    .dataframe tbody tr th:only-of-type {\n",
       "        vertical-align: middle;\n",
       "    }\n",
       "\n",
       "    .dataframe tbody tr th {\n",
       "        vertical-align: top;\n",
       "    }\n",
       "\n",
       "    .dataframe thead th {\n",
       "        text-align: right;\n",
       "    }\n",
       "</style>\n",
       "<table border=\"1\" class=\"dataframe\">\n",
       "  <thead>\n",
       "    <tr style=\"text-align: right;\">\n",
       "      <th></th>\n",
       "      <th>tempo</th>\n",
       "      <th>beats</th>\n",
       "      <th>chroma_stft</th>\n",
       "      <th>spectral_centroid</th>\n",
       "      <th>spectral_bandwidth</th>\n",
       "      <th>rolloff</th>\n",
       "      <th>zero_crossing_rate</th>\n",
       "      <th>mfcc1</th>\n",
       "      <th>mfcc2</th>\n",
       "      <th>mfcc3</th>\n",
       "      <th>...</th>\n",
       "      <th>mfcc12</th>\n",
       "      <th>mfcc13</th>\n",
       "      <th>mfcc14</th>\n",
       "      <th>mfcc15</th>\n",
       "      <th>mfcc16</th>\n",
       "      <th>mfcc17</th>\n",
       "      <th>mfcc18</th>\n",
       "      <th>mfcc19</th>\n",
       "      <th>mfcc20</th>\n",
       "      <th>label_encoded</th>\n",
       "    </tr>\n",
       "  </thead>\n",
       "  <tbody>\n",
       "    <tr>\n",
       "      <th>0</th>\n",
       "      <td>103.359375</td>\n",
       "      <td>50</td>\n",
       "      <td>0.380260</td>\n",
       "      <td>2116.942959</td>\n",
       "      <td>1956.611056</td>\n",
       "      <td>4196.107960</td>\n",
       "      <td>0.127272</td>\n",
       "      <td>-26.929785</td>\n",
       "      <td>107.334008</td>\n",
       "      <td>-46.809993</td>\n",
       "      <td>...</td>\n",
       "      <td>14.336612</td>\n",
       "      <td>-13.821769</td>\n",
       "      <td>7.562789</td>\n",
       "      <td>-6.181372</td>\n",
       "      <td>0.330165</td>\n",
       "      <td>-6.829571</td>\n",
       "      <td>0.965922</td>\n",
       "      <td>-7.570825</td>\n",
       "      <td>2.918987</td>\n",
       "      <td>0</td>\n",
       "    </tr>\n",
       "    <tr>\n",
       "      <th>1</th>\n",
       "      <td>95.703125</td>\n",
       "      <td>44</td>\n",
       "      <td>0.306451</td>\n",
       "      <td>1156.070496</td>\n",
       "      <td>1497.668176</td>\n",
       "      <td>2170.053545</td>\n",
       "      <td>0.058613</td>\n",
       "      <td>-233.860772</td>\n",
       "      <td>136.170239</td>\n",
       "      <td>3.289490</td>\n",
       "      <td>...</td>\n",
       "      <td>-2.250578</td>\n",
       "      <td>3.959198</td>\n",
       "      <td>5.322555</td>\n",
       "      <td>0.812028</td>\n",
       "      <td>-1.107202</td>\n",
       "      <td>-4.556555</td>\n",
       "      <td>-2.436490</td>\n",
       "      <td>3.316913</td>\n",
       "      <td>-0.608485</td>\n",
       "      <td>0</td>\n",
       "    </tr>\n",
       "    <tr>\n",
       "      <th>2</th>\n",
       "      <td>151.999081</td>\n",
       "      <td>75</td>\n",
       "      <td>0.253487</td>\n",
       "      <td>1331.073970</td>\n",
       "      <td>1973.643437</td>\n",
       "      <td>2900.174130</td>\n",
       "      <td>0.042967</td>\n",
       "      <td>-221.802549</td>\n",
       "      <td>110.843070</td>\n",
       "      <td>18.620984</td>\n",
       "      <td>...</td>\n",
       "      <td>-13.037723</td>\n",
       "      <td>-12.652228</td>\n",
       "      <td>-1.821905</td>\n",
       "      <td>-7.260097</td>\n",
       "      <td>-6.660252</td>\n",
       "      <td>-14.682694</td>\n",
       "      <td>-11.719264</td>\n",
       "      <td>-11.025216</td>\n",
       "      <td>-13.387260</td>\n",
       "      <td>0</td>\n",
       "    </tr>\n",
       "    <tr>\n",
       "      <th>3</th>\n",
       "      <td>184.570312</td>\n",
       "      <td>91</td>\n",
       "      <td>0.269320</td>\n",
       "      <td>1361.045467</td>\n",
       "      <td>1567.804596</td>\n",
       "      <td>2739.625101</td>\n",
       "      <td>0.069124</td>\n",
       "      <td>-207.208080</td>\n",
       "      <td>132.799175</td>\n",
       "      <td>-15.438986</td>\n",
       "      <td>...</td>\n",
       "      <td>-0.613248</td>\n",
       "      <td>0.384877</td>\n",
       "      <td>2.605128</td>\n",
       "      <td>-5.188924</td>\n",
       "      <td>-9.527455</td>\n",
       "      <td>-9.244394</td>\n",
       "      <td>-2.848274</td>\n",
       "      <td>-1.418707</td>\n",
       "      <td>-5.932607</td>\n",
       "      <td>0</td>\n",
       "    </tr>\n",
       "    <tr>\n",
       "      <th>4</th>\n",
       "      <td>161.499023</td>\n",
       "      <td>74</td>\n",
       "      <td>0.391059</td>\n",
       "      <td>1811.076084</td>\n",
       "      <td>2052.332563</td>\n",
       "      <td>3927.809582</td>\n",
       "      <td>0.075480</td>\n",
       "      <td>-145.434568</td>\n",
       "      <td>102.829023</td>\n",
       "      <td>-12.517677</td>\n",
       "      <td>...</td>\n",
       "      <td>7.457218</td>\n",
       "      <td>-10.470444</td>\n",
       "      <td>-2.360483</td>\n",
       "      <td>-6.783623</td>\n",
       "      <td>2.671134</td>\n",
       "      <td>-4.760879</td>\n",
       "      <td>-0.949005</td>\n",
       "      <td>0.024832</td>\n",
       "      <td>-2.005315</td>\n",
       "      <td>0</td>\n",
       "    </tr>\n",
       "  </tbody>\n",
       "</table>\n",
       "<p>5 rows × 28 columns</p>\n",
       "</div>"
      ],
      "text/plain": [
       "        tempo  beats  chroma_stft  spectral_centroid  spectral_bandwidth  \\\n",
       "0  103.359375     50     0.380260        2116.942959         1956.611056   \n",
       "1   95.703125     44     0.306451        1156.070496         1497.668176   \n",
       "2  151.999081     75     0.253487        1331.073970         1973.643437   \n",
       "3  184.570312     91     0.269320        1361.045467         1567.804596   \n",
       "4  161.499023     74     0.391059        1811.076084         2052.332563   \n",
       "\n",
       "       rolloff  zero_crossing_rate       mfcc1       mfcc2      mfcc3  ...  \\\n",
       "0  4196.107960            0.127272  -26.929785  107.334008 -46.809993  ...   \n",
       "1  2170.053545            0.058613 -233.860772  136.170239   3.289490  ...   \n",
       "2  2900.174130            0.042967 -221.802549  110.843070  18.620984  ...   \n",
       "3  2739.625101            0.069124 -207.208080  132.799175 -15.438986  ...   \n",
       "4  3927.809582            0.075480 -145.434568  102.829023 -12.517677  ...   \n",
       "\n",
       "      mfcc12     mfcc13    mfcc14    mfcc15    mfcc16     mfcc17     mfcc18  \\\n",
       "0  14.336612 -13.821769  7.562789 -6.181372  0.330165  -6.829571   0.965922   \n",
       "1  -2.250578   3.959198  5.322555  0.812028 -1.107202  -4.556555  -2.436490   \n",
       "2 -13.037723 -12.652228 -1.821905 -7.260097 -6.660252 -14.682694 -11.719264   \n",
       "3  -0.613248   0.384877  2.605128 -5.188924 -9.527455  -9.244394  -2.848274   \n",
       "4   7.457218 -10.470444 -2.360483 -6.783623  2.671134  -4.760879  -0.949005   \n",
       "\n",
       "      mfcc19     mfcc20  label_encoded  \n",
       "0  -7.570825   2.918987              0  \n",
       "1   3.316913  -0.608485              0  \n",
       "2 -11.025216 -13.387260              0  \n",
       "3  -1.418707  -5.932607              0  \n",
       "4   0.024832  -2.005315              0  \n",
       "\n",
       "[5 rows x 28 columns]"
      ]
     },
     "execution_count": 8,
     "metadata": {},
     "output_type": "execute_result"
    }
   ],
   "source": [
    "#Encode the label column!\n",
    "\n",
    "label_encoder = preprocessing.LabelEncoder()\n",
    "audio['label_encoded'] = label_encoder.fit_transform(audio['label'])\n",
    "audio = audio.drop(labels='label',axis=1)\n",
    "audio.head()"
   ]
  },
  {
   "cell_type": "code",
   "execution_count": 9,
   "id": "b8e7e864",
   "metadata": {},
   "outputs": [
    {
     "name": "stdout",
     "output_type": "stream",
     "text": [
      "# of duplicated rows of data: 31\n"
     ]
    }
   ],
   "source": [
    "#Check if there is duplicated data\n",
    "print(\"# of duplicated rows of data:\", audio[audio.duplicated(keep = False)].shape[0])"
   ]
  },
  {
   "cell_type": "code",
   "execution_count": 10,
   "id": "b9fd1871",
   "metadata": {},
   "outputs": [],
   "source": [
    "#We have to remove that data\n",
    "audio = audio[~audio.duplicated(keep = 'first')]"
   ]
  },
  {
   "cell_type": "code",
   "execution_count": 11,
   "id": "a57317d3",
   "metadata": {},
   "outputs": [
    {
     "name": "stdout",
     "output_type": "stream",
     "text": [
      "# of duplicated rows of data: 0\n"
     ]
    }
   ],
   "source": [
    "#Confirm there is no more duplicated data\n",
    "print(\"# of duplicated rows of data:\", audio[audio.duplicated(keep = False)].shape[0])"
   ]
  },
  {
   "cell_type": "code",
   "execution_count": 12,
   "id": "85a98e0e",
   "metadata": {},
   "outputs": [
    {
     "data": {
      "text/plain": [
       "[('tempo', 'beats', 0.97),\n",
       " ('spectral_centroid', 'spectral_bandwidth', 0.91),\n",
       " ('spectral_centroid', 'rolloff', 0.98),\n",
       " ('spectral_centroid', 'zero_crossing_rate', 0.88),\n",
       " ('spectral_centroid', 'mfcc2', 0.94),\n",
       " ('spectral_bandwidth', 'rolloff', 0.96),\n",
       " ('spectral_bandwidth', 'mfcc2', 0.9),\n",
       " ('rolloff', 'mfcc2', 0.93)]"
      ]
     },
     "execution_count": 12,
     "metadata": {},
     "output_type": "execute_result"
    }
   ],
   "source": [
    "#check if correlated variables\n",
    "threshold = 0.85 # define threshold\n",
    "\n",
    "corr_matrix = audio.corr().abs() # calculate the correlation matrix with \n",
    "high_corr_var = np.where(corr_matrix >= threshold) # identify variables that have correlations above defined threshold\n",
    "high_corr_var = [(corr_matrix.index[x], corr_matrix.columns[y], round(corr_matrix.iloc[x, y], 2))\n",
    "                         for x, y in zip(*high_corr_var) if x != y and x < y] # identify pairs of highly correlated variables\n",
    "\n",
    "\n",
    "high_corr_var"
   ]
  },
  {
   "cell_type": "code",
   "execution_count": 13,
   "id": "8c7201da",
   "metadata": {},
   "outputs": [],
   "source": [
    "#Lets drop correlated values\n",
    "audio = audio.drop(labels='beats',axis=1)\n",
    "audio = audio.drop(labels='rolloff',axis=1)\n",
    "audio = audio.drop(labels='spectral_centroid',axis=1)\n",
    "audio = audio.drop(labels='mfcc2',axis=1)"
   ]
  },
  {
   "cell_type": "code",
   "execution_count": 14,
   "id": "beefd93e",
   "metadata": {},
   "outputs": [
    {
     "data": {
      "text/plain": [
       "[]"
      ]
     },
     "execution_count": 14,
     "metadata": {},
     "output_type": "execute_result"
    }
   ],
   "source": [
    "#check if correlated variables\n",
    "threshold = 0.85 # define threshold\n",
    "\n",
    "corr_matrix = audio.corr().abs() # calculate the correlation matrix with \n",
    "high_corr_var = np.where(corr_matrix >= threshold) # identify variables that have correlations above defined threshold\n",
    "high_corr_var = [(corr_matrix.index[x], corr_matrix.columns[y], round(corr_matrix.iloc[x, y], 2))\n",
    "                         for x, y in zip(*high_corr_var) if x != y and x < y] # identify pairs of highly correlated variables\n",
    "\n",
    "\n",
    "high_corr_var"
   ]
  },
  {
   "cell_type": "code",
   "execution_count": 15,
   "id": "3d5e0bbf",
   "metadata": {},
   "outputs": [
    {
     "data": {
      "text/plain": [
       "(987, 24)"
      ]
     },
     "execution_count": 15,
     "metadata": {},
     "output_type": "execute_result"
    }
   ],
   "source": [
    "#Shape of data\n",
    "audio.shape\n",
    "\n",
    "#987 rows & 24 columns"
   ]
  },
  {
   "cell_type": "markdown",
   "id": "8ac9af84",
   "metadata": {},
   "source": [
    "# Missing data"
   ]
  },
  {
   "cell_type": "code",
   "execution_count": 16,
   "id": "d8dc59c5",
   "metadata": {},
   "outputs": [
    {
     "data": {
      "text/plain": [
       "tempo                 0\n",
       "chroma_stft           0\n",
       "spectral_bandwidth    0\n",
       "zero_crossing_rate    0\n",
       "mfcc1                 0\n",
       "mfcc3                 0\n",
       "mfcc4                 0\n",
       "mfcc5                 0\n",
       "mfcc6                 0\n",
       "mfcc7                 0\n",
       "mfcc8                 0\n",
       "mfcc9                 0\n",
       "mfcc10                0\n",
       "mfcc11                0\n",
       "mfcc12                0\n",
       "mfcc13                0\n",
       "mfcc14                0\n",
       "mfcc15                0\n",
       "mfcc16                0\n",
       "mfcc17                0\n",
       "mfcc18                0\n",
       "mfcc19                0\n",
       "mfcc20                0\n",
       "label_encoded         0\n",
       "dtype: int64"
      ]
     },
     "execution_count": 16,
     "metadata": {},
     "output_type": "execute_result"
    }
   ],
   "source": [
    "#Do we have missing data? (apparently no) Handle missing data? (no missing data)\n",
    "audio.isnull().sum()"
   ]
  },
  {
   "cell_type": "code",
   "execution_count": 17,
   "id": "21523ad1",
   "metadata": {},
   "outputs": [
    {
     "name": "stdout",
     "output_type": "stream",
     "text": [
      "<class 'pandas.core.frame.DataFrame'>\n",
      "Int64Index: 987 entries, 0 to 999\n",
      "Data columns (total 24 columns):\n",
      " #   Column              Non-Null Count  Dtype  \n",
      "---  ------              --------------  -----  \n",
      " 0   tempo               987 non-null    float64\n",
      " 1   chroma_stft         987 non-null    float64\n",
      " 2   spectral_bandwidth  987 non-null    float64\n",
      " 3   zero_crossing_rate  987 non-null    float64\n",
      " 4   mfcc1               987 non-null    float64\n",
      " 5   mfcc3               987 non-null    float64\n",
      " 6   mfcc4               987 non-null    float64\n",
      " 7   mfcc5               987 non-null    float64\n",
      " 8   mfcc6               987 non-null    float64\n",
      " 9   mfcc7               987 non-null    float64\n",
      " 10  mfcc8               987 non-null    float64\n",
      " 11  mfcc9               987 non-null    float64\n",
      " 12  mfcc10              987 non-null    float64\n",
      " 13  mfcc11              987 non-null    float64\n",
      " 14  mfcc12              987 non-null    float64\n",
      " 15  mfcc13              987 non-null    float64\n",
      " 16  mfcc14              987 non-null    float64\n",
      " 17  mfcc15              987 non-null    float64\n",
      " 18  mfcc16              987 non-null    float64\n",
      " 19  mfcc17              987 non-null    float64\n",
      " 20  mfcc18              987 non-null    float64\n",
      " 21  mfcc19              987 non-null    float64\n",
      " 22  mfcc20              987 non-null    float64\n",
      " 23  label_encoded       987 non-null    int32  \n",
      "dtypes: float64(23), int32(1)\n",
      "memory usage: 188.9 KB\n"
     ]
    }
   ],
   "source": [
    "#Data information\n",
    "\n",
    "audio.info()\n",
    "\n",
    "#3 more audio files mmm, let's ignore them"
   ]
  },
  {
   "cell_type": "code",
   "execution_count": 18,
   "id": "b762a7c1",
   "metadata": {},
   "outputs": [
    {
     "data": {
      "text/html": [
       "<div>\n",
       "<style scoped>\n",
       "    .dataframe tbody tr th:only-of-type {\n",
       "        vertical-align: middle;\n",
       "    }\n",
       "\n",
       "    .dataframe tbody tr th {\n",
       "        vertical-align: top;\n",
       "    }\n",
       "\n",
       "    .dataframe thead th {\n",
       "        text-align: right;\n",
       "    }\n",
       "</style>\n",
       "<table border=\"1\" class=\"dataframe\">\n",
       "  <thead>\n",
       "    <tr style=\"text-align: right;\">\n",
       "      <th></th>\n",
       "      <th>tempo</th>\n",
       "      <th>chroma_stft</th>\n",
       "      <th>spectral_bandwidth</th>\n",
       "      <th>zero_crossing_rate</th>\n",
       "      <th>mfcc1</th>\n",
       "      <th>mfcc3</th>\n",
       "      <th>mfcc4</th>\n",
       "      <th>mfcc5</th>\n",
       "      <th>mfcc6</th>\n",
       "      <th>mfcc7</th>\n",
       "      <th>...</th>\n",
       "      <th>mfcc12</th>\n",
       "      <th>mfcc13</th>\n",
       "      <th>mfcc14</th>\n",
       "      <th>mfcc15</th>\n",
       "      <th>mfcc16</th>\n",
       "      <th>mfcc17</th>\n",
       "      <th>mfcc18</th>\n",
       "      <th>mfcc19</th>\n",
       "      <th>mfcc20</th>\n",
       "      <th>label_encoded</th>\n",
       "    </tr>\n",
       "  </thead>\n",
       "  <tbody>\n",
       "    <tr>\n",
       "      <th>count</th>\n",
       "      <td>987.000000</td>\n",
       "      <td>987.000000</td>\n",
       "      <td>987.000000</td>\n",
       "      <td>987.000000</td>\n",
       "      <td>987.000000</td>\n",
       "      <td>987.000000</td>\n",
       "      <td>987.000000</td>\n",
       "      <td>987.000000</td>\n",
       "      <td>987.000000</td>\n",
       "      <td>987.000000</td>\n",
       "      <td>...</td>\n",
       "      <td>987.000000</td>\n",
       "      <td>987.000000</td>\n",
       "      <td>987.000000</td>\n",
       "      <td>987.000000</td>\n",
       "      <td>987.000000</td>\n",
       "      <td>987.000000</td>\n",
       "      <td>987.000000</td>\n",
       "      <td>987.000000</td>\n",
       "      <td>987.000000</td>\n",
       "      <td>987.000000</td>\n",
       "    </tr>\n",
       "    <tr>\n",
       "      <th>mean</th>\n",
       "      <td>119.622039</td>\n",
       "      <td>0.377854</td>\n",
       "      <td>2239.686314</td>\n",
       "      <td>0.103120</td>\n",
       "      <td>-145.121078</td>\n",
       "      <td>-8.778399</td>\n",
       "      <td>36.258412</td>\n",
       "      <td>-1.110542</td>\n",
       "      <td>14.614901</td>\n",
       "      <td>-5.132673</td>\n",
       "      <td>...</td>\n",
       "      <td>4.424727</td>\n",
       "      <td>-4.732226</td>\n",
       "      <td>1.766220</td>\n",
       "      <td>-3.862083</td>\n",
       "      <td>1.110121</td>\n",
       "      <td>-3.939917</td>\n",
       "      <td>0.484466</td>\n",
       "      <td>-2.286274</td>\n",
       "      <td>-1.100632</td>\n",
       "      <td>4.483283</td>\n",
       "    </tr>\n",
       "    <tr>\n",
       "      <th>std</th>\n",
       "      <td>28.281385</td>\n",
       "      <td>0.081841</td>\n",
       "      <td>526.724400</td>\n",
       "      <td>0.041728</td>\n",
       "      <td>100.696264</td>\n",
       "      <td>21.516673</td>\n",
       "      <td>16.648538</td>\n",
       "      <td>12.225778</td>\n",
       "      <td>11.831187</td>\n",
       "      <td>9.920024</td>\n",
       "      <td>...</td>\n",
       "      <td>6.724914</td>\n",
       "      <td>6.088859</td>\n",
       "      <td>5.015409</td>\n",
       "      <td>4.870264</td>\n",
       "      <td>4.565600</td>\n",
       "      <td>4.541511</td>\n",
       "      <td>3.877095</td>\n",
       "      <td>3.712570</td>\n",
       "      <td>3.849776</td>\n",
       "      <td>2.884960</td>\n",
       "    </tr>\n",
       "    <tr>\n",
       "      <th>min</th>\n",
       "      <td>54.978391</td>\n",
       "      <td>0.171782</td>\n",
       "      <td>897.994319</td>\n",
       "      <td>0.021701</td>\n",
       "      <td>-552.064063</td>\n",
       "      <td>-89.901142</td>\n",
       "      <td>-18.768461</td>\n",
       "      <td>-38.903451</td>\n",
       "      <td>-28.424546</td>\n",
       "      <td>-32.933588</td>\n",
       "      <td>...</td>\n",
       "      <td>-15.805227</td>\n",
       "      <td>-27.542309</td>\n",
       "      <td>-12.598773</td>\n",
       "      <td>-17.545474</td>\n",
       "      <td>-15.693589</td>\n",
       "      <td>-17.227765</td>\n",
       "      <td>-11.975698</td>\n",
       "      <td>-18.504188</td>\n",
       "      <td>-19.935203</td>\n",
       "      <td>0.000000</td>\n",
       "    </tr>\n",
       "    <tr>\n",
       "      <th>25%</th>\n",
       "      <td>99.384014</td>\n",
       "      <td>0.319249</td>\n",
       "      <td>1901.089391</td>\n",
       "      <td>0.069839</td>\n",
       "      <td>-201.891830</td>\n",
       "      <td>-23.921427</td>\n",
       "      <td>24.138033</td>\n",
       "      <td>-10.061291</td>\n",
       "      <td>5.073220</td>\n",
       "      <td>-12.865895</td>\n",
       "      <td>...</td>\n",
       "      <td>-0.578673</td>\n",
       "      <td>-9.293435</td>\n",
       "      <td>-1.670464</td>\n",
       "      <td>-7.124887</td>\n",
       "      <td>-1.860705</td>\n",
       "      <td>-7.153306</td>\n",
       "      <td>-2.044931</td>\n",
       "      <td>-4.609638</td>\n",
       "      <td>-3.375820</td>\n",
       "      <td>2.000000</td>\n",
       "    </tr>\n",
       "    <tr>\n",
       "      <th>50%</th>\n",
       "      <td>117.453835</td>\n",
       "      <td>0.380916</td>\n",
       "      <td>2219.090892</td>\n",
       "      <td>0.099030</td>\n",
       "      <td>-121.066584</td>\n",
       "      <td>-10.702122</td>\n",
       "      <td>36.841104</td>\n",
       "      <td>0.050252</td>\n",
       "      <td>14.914179</td>\n",
       "      <td>-5.669747</td>\n",
       "      <td>...</td>\n",
       "      <td>3.856510</td>\n",
       "      <td>-4.152501</td>\n",
       "      <td>1.878598</td>\n",
       "      <td>-3.597213</td>\n",
       "      <td>1.198567</td>\n",
       "      <td>-4.050388</td>\n",
       "      <td>0.659429</td>\n",
       "      <td>-2.377801</td>\n",
       "      <td>-1.172830</td>\n",
       "      <td>4.000000</td>\n",
       "    </tr>\n",
       "    <tr>\n",
       "      <th>75%</th>\n",
       "      <td>135.999178</td>\n",
       "      <td>0.434662</td>\n",
       "      <td>2576.499682</td>\n",
       "      <td>0.131522</td>\n",
       "      <td>-73.426158</td>\n",
       "      <td>5.550685</td>\n",
       "      <td>47.986026</td>\n",
       "      <td>7.956127</td>\n",
       "      <td>23.859402</td>\n",
       "      <td>2.970403</td>\n",
       "      <td>...</td>\n",
       "      <td>9.603460</td>\n",
       "      <td>-0.159541</td>\n",
       "      <td>5.127193</td>\n",
       "      <td>-0.321906</td>\n",
       "      <td>4.290809</td>\n",
       "      <td>-0.836889</td>\n",
       "      <td>3.093848</td>\n",
       "      <td>0.166472</td>\n",
       "      <td>1.298917</td>\n",
       "      <td>7.000000</td>\n",
       "    </tr>\n",
       "    <tr>\n",
       "      <th>max</th>\n",
       "      <td>234.907670</td>\n",
       "      <td>0.663573</td>\n",
       "      <td>3509.578677</td>\n",
       "      <td>0.274829</td>\n",
       "      <td>42.034587</td>\n",
       "      <td>56.666090</td>\n",
       "      <td>80.691273</td>\n",
       "      <td>31.461661</td>\n",
       "      <td>45.173178</td>\n",
       "      <td>21.835769</td>\n",
       "      <td>...</td>\n",
       "      <td>23.037571</td>\n",
       "      <td>13.054333</td>\n",
       "      <td>18.161663</td>\n",
       "      <td>12.357588</td>\n",
       "      <td>13.468803</td>\n",
       "      <td>11.489994</td>\n",
       "      <td>15.379257</td>\n",
       "      <td>14.686910</td>\n",
       "      <td>15.368966</td>\n",
       "      <td>9.000000</td>\n",
       "    </tr>\n",
       "  </tbody>\n",
       "</table>\n",
       "<p>8 rows × 24 columns</p>\n",
       "</div>"
      ],
      "text/plain": [
       "            tempo  chroma_stft  spectral_bandwidth  zero_crossing_rate  \\\n",
       "count  987.000000   987.000000          987.000000          987.000000   \n",
       "mean   119.622039     0.377854         2239.686314            0.103120   \n",
       "std     28.281385     0.081841          526.724400            0.041728   \n",
       "min     54.978391     0.171782          897.994319            0.021701   \n",
       "25%     99.384014     0.319249         1901.089391            0.069839   \n",
       "50%    117.453835     0.380916         2219.090892            0.099030   \n",
       "75%    135.999178     0.434662         2576.499682            0.131522   \n",
       "max    234.907670     0.663573         3509.578677            0.274829   \n",
       "\n",
       "            mfcc1       mfcc3       mfcc4       mfcc5       mfcc6       mfcc7  \\\n",
       "count  987.000000  987.000000  987.000000  987.000000  987.000000  987.000000   \n",
       "mean  -145.121078   -8.778399   36.258412   -1.110542   14.614901   -5.132673   \n",
       "std    100.696264   21.516673   16.648538   12.225778   11.831187    9.920024   \n",
       "min   -552.064063  -89.901142  -18.768461  -38.903451  -28.424546  -32.933588   \n",
       "25%   -201.891830  -23.921427   24.138033  -10.061291    5.073220  -12.865895   \n",
       "50%   -121.066584  -10.702122   36.841104    0.050252   14.914179   -5.669747   \n",
       "75%    -73.426158    5.550685   47.986026    7.956127   23.859402    2.970403   \n",
       "max     42.034587   56.666090   80.691273   31.461661   45.173178   21.835769   \n",
       "\n",
       "       ...      mfcc12      mfcc13      mfcc14      mfcc15      mfcc16  \\\n",
       "count  ...  987.000000  987.000000  987.000000  987.000000  987.000000   \n",
       "mean   ...    4.424727   -4.732226    1.766220   -3.862083    1.110121   \n",
       "std    ...    6.724914    6.088859    5.015409    4.870264    4.565600   \n",
       "min    ...  -15.805227  -27.542309  -12.598773  -17.545474  -15.693589   \n",
       "25%    ...   -0.578673   -9.293435   -1.670464   -7.124887   -1.860705   \n",
       "50%    ...    3.856510   -4.152501    1.878598   -3.597213    1.198567   \n",
       "75%    ...    9.603460   -0.159541    5.127193   -0.321906    4.290809   \n",
       "max    ...   23.037571   13.054333   18.161663   12.357588   13.468803   \n",
       "\n",
       "           mfcc17      mfcc18      mfcc19      mfcc20  label_encoded  \n",
       "count  987.000000  987.000000  987.000000  987.000000     987.000000  \n",
       "mean    -3.939917    0.484466   -2.286274   -1.100632       4.483283  \n",
       "std      4.541511    3.877095    3.712570    3.849776       2.884960  \n",
       "min    -17.227765  -11.975698  -18.504188  -19.935203       0.000000  \n",
       "25%     -7.153306   -2.044931   -4.609638   -3.375820       2.000000  \n",
       "50%     -4.050388    0.659429   -2.377801   -1.172830       4.000000  \n",
       "75%     -0.836889    3.093848    0.166472    1.298917       7.000000  \n",
       "max     11.489994   15.379257   14.686910   15.368966       9.000000  \n",
       "\n",
       "[8 rows x 24 columns]"
      ]
     },
     "execution_count": 18,
     "metadata": {},
     "output_type": "execute_result"
    }
   ],
   "source": [
    "#Lets try describing this\n",
    "\n",
    "audio.describe()"
   ]
  },
  {
   "cell_type": "code",
   "execution_count": 19,
   "id": "ef5ce1a8",
   "metadata": {},
   "outputs": [
    {
     "data": {
      "text/plain": [
       "array([[<AxesSubplot:title={'center':'tempo'}>,\n",
       "        <AxesSubplot:title={'center':'chroma_stft'}>,\n",
       "        <AxesSubplot:title={'center':'spectral_bandwidth'}>,\n",
       "        <AxesSubplot:title={'center':'zero_crossing_rate'}>,\n",
       "        <AxesSubplot:title={'center':'mfcc1'}>],\n",
       "       [<AxesSubplot:title={'center':'mfcc3'}>,\n",
       "        <AxesSubplot:title={'center':'mfcc4'}>,\n",
       "        <AxesSubplot:title={'center':'mfcc5'}>,\n",
       "        <AxesSubplot:title={'center':'mfcc6'}>,\n",
       "        <AxesSubplot:title={'center':'mfcc7'}>],\n",
       "       [<AxesSubplot:title={'center':'mfcc8'}>,\n",
       "        <AxesSubplot:title={'center':'mfcc9'}>,\n",
       "        <AxesSubplot:title={'center':'mfcc10'}>,\n",
       "        <AxesSubplot:title={'center':'mfcc11'}>,\n",
       "        <AxesSubplot:title={'center':'mfcc12'}>],\n",
       "       [<AxesSubplot:title={'center':'mfcc13'}>,\n",
       "        <AxesSubplot:title={'center':'mfcc14'}>,\n",
       "        <AxesSubplot:title={'center':'mfcc15'}>,\n",
       "        <AxesSubplot:title={'center':'mfcc16'}>,\n",
       "        <AxesSubplot:title={'center':'mfcc17'}>],\n",
       "       [<AxesSubplot:title={'center':'mfcc18'}>,\n",
       "        <AxesSubplot:title={'center':'mfcc19'}>,\n",
       "        <AxesSubplot:title={'center':'mfcc20'}>,\n",
       "        <AxesSubplot:title={'center':'label_encoded'}>, <AxesSubplot:>]],\n",
       "      dtype=object)"
      ]
     },
     "execution_count": 19,
     "metadata": {},
     "output_type": "execute_result"
    },
    {
     "data": {
      "image/png": "[encoded data removed]",
      "text/plain": [
       "<Figure size 1440x1440 with 25 Axes>"
      ]
     },
     "metadata": {
      "needs_background": "light"
     },
     "output_type": "display_data"
    }
   ],
   "source": [
    "#Histograms! always helpful\n",
    "\n",
    "plt.rcParams[\"figure.figsize\"] = (20,20)\n",
    "audio.hist()\n",
    "\n",
    "#We're gonna put special attention to mfcc1, something sketchy going on in there"
   ]
  },
  {
   "cell_type": "code",
   "execution_count": 20,
   "id": "b8ed015f",
   "metadata": {},
   "outputs": [
    {
     "data": {
      "text/plain": [
       "tempo                  28.281385\n",
       "chroma_stft             0.081841\n",
       "spectral_bandwidth    526.724400\n",
       "zero_crossing_rate      0.041728\n",
       "mfcc1                 100.696264\n",
       "mfcc3                  21.516673\n",
       "mfcc4                  16.648538\n",
       "mfcc5                  12.225778\n",
       "mfcc6                  11.831187\n",
       "mfcc7                   9.920024\n",
       "mfcc8                  10.446289\n",
       "mfcc9                   8.249604\n",
       "mfcc10                  7.914605\n",
       "mfcc11                  6.790605\n",
       "mfcc12                  6.724914\n",
       "mfcc13                  6.088859\n",
       "mfcc14                  5.015409\n",
       "mfcc15                  4.870264\n",
       "mfcc16                  4.565600\n",
       "mfcc17                  4.541511\n",
       "mfcc18                  3.877095\n",
       "mfcc19                  3.712570\n",
       "mfcc20                  3.849776\n",
       "label_encoded           2.884960\n",
       "dtype: float64"
      ]
     },
     "execution_count": 20,
     "metadata": {},
     "output_type": "execute_result"
    }
   ],
   "source": [
    "#Lets check the standard deviation!\n",
    "\n",
    "audio.std()"
   ]
  },
  {
   "cell_type": "code",
   "execution_count": 21,
   "id": "042183e6",
   "metadata": {},
   "outputs": [
    {
     "data": {
      "text/plain": [
       "tempo                  28.281385\n",
       "spectral_bandwidth    526.724400\n",
       "mfcc1                 100.696264\n",
       "mfcc3                  21.516673\n",
       "mfcc4                  16.648538\n",
       "mfcc5                  12.225778\n",
       "mfcc6                  11.831187\n",
       "mfcc7                   9.920024\n",
       "mfcc8                  10.446289\n",
       "mfcc9                   8.249604\n",
       "mfcc10                  7.914605\n",
       "mfcc11                  6.790605\n",
       "mfcc12                  6.724914\n",
       "mfcc13                  6.088859\n",
       "mfcc14                  5.015409\n",
       "mfcc15                  4.870264\n",
       "mfcc16                  4.565600\n",
       "mfcc17                  4.541511\n",
       "mfcc18                  3.877095\n",
       "mfcc19                  3.712570\n",
       "mfcc20                  3.849776\n",
       "label_encoded           2.884960\n",
       "dtype: float64"
      ]
     },
     "execution_count": 21,
     "metadata": {},
     "output_type": "execute_result"
    }
   ],
   "source": [
    "#We identify 2 features with very little std, so let's drop them, for the sake of simplicity\n",
    "\n",
    "audio = audio.drop(labels='chroma_stft',axis=1)\n",
    "audio = audio.drop(labels='zero_crossing_rate',axis=1)\n",
    "audio.std()\n",
    "\n",
    "#chroma_stft and zero_crossing_rate, you are the weakest link. Good bye."
   ]
  },
  {
   "cell_type": "code",
   "execution_count": 22,
   "id": "64dfa353",
   "metadata": {},
   "outputs": [
    {
     "data": {
      "text/plain": [
       "count    987.000000\n",
       "mean       4.483283\n",
       "std        2.884960\n",
       "min        0.000000\n",
       "25%        2.000000\n",
       "50%        4.000000\n",
       "75%        7.000000\n",
       "max        9.000000\n",
       "Name: label_encoded, dtype: float64"
      ]
     },
     "execution_count": 22,
     "metadata": {},
     "output_type": "execute_result"
    },
    {
     "data": {
      "image/png": "[encoded data removed]",
      "text/plain": [
       "<Figure size 1440x1440 with 1 Axes>"
      ]
     },
     "metadata": {
      "needs_background": "light"
     },
     "output_type": "display_data"
    }
   ],
   "source": [
    "#As stated in the project definition, even distribution of the songs (pretty useless to do this I guess?)\n",
    "\n",
    "audio.label_encoded.value_counts(dropna = True).plot(kind = 'bar')\n",
    "plt.title(\"Distribution of the audio genre\");\n",
    "audio.label_encoded.describe()"
   ]
  },
  {
   "cell_type": "code",
   "execution_count": 23,
   "id": "90d0c63a",
   "metadata": {},
   "outputs": [],
   "source": [
    "#We identified \"label\" as our target, Yei!"
   ]
  },
  {
   "cell_type": "markdown",
   "id": "bc2e7c6a",
   "metadata": {},
   "source": [
    "# Split the data into train and test"
   ]
  },
  {
   "cell_type": "code",
   "execution_count": 24,
   "id": "a031183f",
   "metadata": {},
   "outputs": [],
   "source": [
    "data = audio.drop([\"label_encoded\"], axis = 1)\n",
    "target = audio[\"label_encoded\"]\n",
    "\n",
    "X = data\n",
    "y = target"
   ]
  },
  {
   "cell_type": "code",
   "execution_count": 25,
   "id": "8b3e6455",
   "metadata": {},
   "outputs": [],
   "source": [
    "X_train, X_test, y_train, y_test = train_test_split(X, y, random_state = 2)"
   ]
  },
  {
   "cell_type": "code",
   "execution_count": 26,
   "id": "45204b9c",
   "metadata": {},
   "outputs": [
    {
     "data": {
      "text/plain": [
       "0      0\n",
       "1      0\n",
       "2      0\n",
       "3      0\n",
       "4      0\n",
       "      ..\n",
       "995    9\n",
       "996    9\n",
       "997    9\n",
       "998    9\n",
       "999    9\n",
       "Name: label_encoded, Length: 987, dtype: int32"
      ]
     },
     "execution_count": 26,
     "metadata": {},
     "output_type": "execute_result"
    }
   ],
   "source": [
    "target"
   ]
  },
  {
   "cell_type": "code",
   "execution_count": 27,
   "id": "30891438",
   "metadata": {},
   "outputs": [
    {
     "data": {
      "text/html": [
       "<div>\n",
       "<style scoped>\n",
       "    .dataframe tbody tr th:only-of-type {\n",
       "        vertical-align: middle;\n",
       "    }\n",
       "\n",
       "    .dataframe tbody tr th {\n",
       "        vertical-align: top;\n",
       "    }\n",
       "\n",
       "    .dataframe thead th {\n",
       "        text-align: right;\n",
       "    }\n",
       "</style>\n",
       "<table border=\"1\" class=\"dataframe\">\n",
       "  <thead>\n",
       "    <tr style=\"text-align: right;\">\n",
       "      <th></th>\n",
       "      <th>tempo</th>\n",
       "      <th>spectral_bandwidth</th>\n",
       "      <th>mfcc1</th>\n",
       "      <th>mfcc3</th>\n",
       "      <th>mfcc4</th>\n",
       "      <th>mfcc5</th>\n",
       "      <th>mfcc6</th>\n",
       "      <th>mfcc7</th>\n",
       "      <th>mfcc8</th>\n",
       "      <th>mfcc9</th>\n",
       "      <th>...</th>\n",
       "      <th>mfcc11</th>\n",
       "      <th>mfcc12</th>\n",
       "      <th>mfcc13</th>\n",
       "      <th>mfcc14</th>\n",
       "      <th>mfcc15</th>\n",
       "      <th>mfcc16</th>\n",
       "      <th>mfcc17</th>\n",
       "      <th>mfcc18</th>\n",
       "      <th>mfcc19</th>\n",
       "      <th>mfcc20</th>\n",
       "    </tr>\n",
       "  </thead>\n",
       "  <tbody>\n",
       "    <tr>\n",
       "      <th>0</th>\n",
       "      <td>103.359375</td>\n",
       "      <td>1956.611056</td>\n",
       "      <td>-26.929785</td>\n",
       "      <td>-46.809993</td>\n",
       "      <td>40.932634</td>\n",
       "      <td>-21.463776</td>\n",
       "      <td>24.816275</td>\n",
       "      <td>-18.945571</td>\n",
       "      <td>15.253459</td>\n",
       "      <td>-15.050104</td>\n",
       "      <td>...</td>\n",
       "      <td>-15.234050</td>\n",
       "      <td>14.336612</td>\n",
       "      <td>-13.821769</td>\n",
       "      <td>7.562789</td>\n",
       "      <td>-6.181372</td>\n",
       "      <td>0.330165</td>\n",
       "      <td>-6.829571</td>\n",
       "      <td>0.965922</td>\n",
       "      <td>-7.570825</td>\n",
       "      <td>2.918987</td>\n",
       "    </tr>\n",
       "    <tr>\n",
       "      <th>1</th>\n",
       "      <td>95.703125</td>\n",
       "      <td>1497.668176</td>\n",
       "      <td>-233.860772</td>\n",
       "      <td>3.289490</td>\n",
       "      <td>48.931193</td>\n",
       "      <td>8.699106</td>\n",
       "      <td>13.954752</td>\n",
       "      <td>5.359449</td>\n",
       "      <td>0.381334</td>\n",
       "      <td>-13.490265</td>\n",
       "      <td>...</td>\n",
       "      <td>5.145258</td>\n",
       "      <td>-2.250578</td>\n",
       "      <td>3.959198</td>\n",
       "      <td>5.322555</td>\n",
       "      <td>0.812028</td>\n",
       "      <td>-1.107202</td>\n",
       "      <td>-4.556555</td>\n",
       "      <td>-2.436490</td>\n",
       "      <td>3.316913</td>\n",
       "      <td>-0.608485</td>\n",
       "    </tr>\n",
       "    <tr>\n",
       "      <th>2</th>\n",
       "      <td>151.999081</td>\n",
       "      <td>1973.643437</td>\n",
       "      <td>-221.802549</td>\n",
       "      <td>18.620984</td>\n",
       "      <td>30.922996</td>\n",
       "      <td>3.291330</td>\n",
       "      <td>22.587447</td>\n",
       "      <td>-20.418303</td>\n",
       "      <td>12.120995</td>\n",
       "      <td>-26.347956</td>\n",
       "      <td>...</td>\n",
       "      <td>-26.406674</td>\n",
       "      <td>-13.037723</td>\n",
       "      <td>-12.652228</td>\n",
       "      <td>-1.821905</td>\n",
       "      <td>-7.260097</td>\n",
       "      <td>-6.660252</td>\n",
       "      <td>-14.682694</td>\n",
       "      <td>-11.719264</td>\n",
       "      <td>-11.025216</td>\n",
       "      <td>-13.387260</td>\n",
       "    </tr>\n",
       "    <tr>\n",
       "      <th>3</th>\n",
       "      <td>184.570312</td>\n",
       "      <td>1567.804596</td>\n",
       "      <td>-207.208080</td>\n",
       "      <td>-15.438986</td>\n",
       "      <td>60.986727</td>\n",
       "      <td>0.725807</td>\n",
       "      <td>12.437828</td>\n",
       "      <td>1.183836</td>\n",
       "      <td>-1.540779</td>\n",
       "      <td>-17.888154</td>\n",
       "      <td>...</td>\n",
       "      <td>-2.452068</td>\n",
       "      <td>-0.613248</td>\n",
       "      <td>0.384877</td>\n",
       "      <td>2.605128</td>\n",
       "      <td>-5.188924</td>\n",
       "      <td>-9.527455</td>\n",
       "      <td>-9.244394</td>\n",
       "      <td>-2.848274</td>\n",
       "      <td>-1.418707</td>\n",
       "      <td>-5.932607</td>\n",
       "    </tr>\n",
       "    <tr>\n",
       "      <th>4</th>\n",
       "      <td>161.499023</td>\n",
       "      <td>2052.332563</td>\n",
       "      <td>-145.434568</td>\n",
       "      <td>-12.517677</td>\n",
       "      <td>56.993472</td>\n",
       "      <td>2.271347</td>\n",
       "      <td>26.591402</td>\n",
       "      <td>-4.274803</td>\n",
       "      <td>17.338809</td>\n",
       "      <td>-7.985593</td>\n",
       "      <td>...</td>\n",
       "      <td>-6.934599</td>\n",
       "      <td>7.457218</td>\n",
       "      <td>-10.470444</td>\n",
       "      <td>-2.360483</td>\n",
       "      <td>-6.783623</td>\n",
       "      <td>2.671134</td>\n",
       "      <td>-4.760879</td>\n",
       "      <td>-0.949005</td>\n",
       "      <td>0.024832</td>\n",
       "      <td>-2.005315</td>\n",
       "    </tr>\n",
       "    <tr>\n",
       "      <th>...</th>\n",
       "      <td>...</td>\n",
       "      <td>...</td>\n",
       "      <td>...</td>\n",
       "      <td>...</td>\n",
       "      <td>...</td>\n",
       "      <td>...</td>\n",
       "      <td>...</td>\n",
       "      <td>...</td>\n",
       "      <td>...</td>\n",
       "      <td>...</td>\n",
       "      <td>...</td>\n",
       "      <td>...</td>\n",
       "      <td>...</td>\n",
       "      <td>...</td>\n",
       "      <td>...</td>\n",
       "      <td>...</td>\n",
       "      <td>...</td>\n",
       "      <td>...</td>\n",
       "      <td>...</td>\n",
       "      <td>...</td>\n",
       "      <td>...</td>\n",
       "    </tr>\n",
       "    <tr>\n",
       "      <th>995</th>\n",
       "      <td>123.046875</td>\n",
       "      <td>2060.825761</td>\n",
       "      <td>-41.402023</td>\n",
       "      <td>-43.945538</td>\n",
       "      <td>54.100395</td>\n",
       "      <td>-18.411090</td>\n",
       "      <td>23.520838</td>\n",
       "      <td>-17.607988</td>\n",
       "      <td>20.660727</td>\n",
       "      <td>-18.454381</td>\n",
       "      <td>...</td>\n",
       "      <td>-15.174259</td>\n",
       "      <td>11.303100</td>\n",
       "      <td>-14.155566</td>\n",
       "      <td>2.824157</td>\n",
       "      <td>-9.477822</td>\n",
       "      <td>3.331261</td>\n",
       "      <td>-8.200088</td>\n",
       "      <td>3.693091</td>\n",
       "      <td>-3.673562</td>\n",
       "      <td>-0.163201</td>\n",
       "    </tr>\n",
       "    <tr>\n",
       "      <th>996</th>\n",
       "      <td>117.453835</td>\n",
       "      <td>2219.090892</td>\n",
       "      <td>-121.410791</td>\n",
       "      <td>-33.497073</td>\n",
       "      <td>41.974745</td>\n",
       "      <td>-25.936361</td>\n",
       "      <td>23.026082</td>\n",
       "      <td>-20.271538</td>\n",
       "      <td>14.354429</td>\n",
       "      <td>-16.350707</td>\n",
       "      <td>...</td>\n",
       "      <td>-16.957086</td>\n",
       "      <td>9.149520</td>\n",
       "      <td>-10.112054</td>\n",
       "      <td>4.211237</td>\n",
       "      <td>-9.349345</td>\n",
       "      <td>1.609701</td>\n",
       "      <td>-10.553566</td>\n",
       "      <td>1.066489</td>\n",
       "      <td>-1.654875</td>\n",
       "      <td>7.544224</td>\n",
       "    </tr>\n",
       "    <tr>\n",
       "      <th>997</th>\n",
       "      <td>103.359375</td>\n",
       "      <td>1841.748033</td>\n",
       "      <td>-127.946876</td>\n",
       "      <td>1.027332</td>\n",
       "      <td>54.440979</td>\n",
       "      <td>-0.464906</td>\n",
       "      <td>35.829542</td>\n",
       "      <td>-10.860896</td>\n",
       "      <td>16.383278</td>\n",
       "      <td>-10.030961</td>\n",
       "      <td>...</td>\n",
       "      <td>-6.700004</td>\n",
       "      <td>11.043714</td>\n",
       "      <td>-8.385375</td>\n",
       "      <td>2.111019</td>\n",
       "      <td>-6.338260</td>\n",
       "      <td>0.997383</td>\n",
       "      <td>-5.325869</td>\n",
       "      <td>-0.842192</td>\n",
       "      <td>-4.665996</td>\n",
       "      <td>-4.787677</td>\n",
       "    </tr>\n",
       "    <tr>\n",
       "      <th>998</th>\n",
       "      <td>112.347147</td>\n",
       "      <td>1653.422860</td>\n",
       "      <td>-98.356322</td>\n",
       "      <td>-46.700574</td>\n",
       "      <td>46.457300</td>\n",
       "      <td>-17.135585</td>\n",
       "      <td>10.505286</td>\n",
       "      <td>-14.554871</td>\n",
       "      <td>16.543108</td>\n",
       "      <td>-12.317913</td>\n",
       "      <td>...</td>\n",
       "      <td>-12.647550</td>\n",
       "      <td>2.945863</td>\n",
       "      <td>-12.509212</td>\n",
       "      <td>0.091337</td>\n",
       "      <td>-0.774780</td>\n",
       "      <td>-5.700102</td>\n",
       "      <td>-8.630916</td>\n",
       "      <td>-1.903803</td>\n",
       "      <td>-2.196753</td>\n",
       "      <td>-3.395148</td>\n",
       "    </tr>\n",
       "    <tr>\n",
       "      <th>999</th>\n",
       "      <td>75.999540</td>\n",
       "      <td>2175.214294</td>\n",
       "      <td>-245.160921</td>\n",
       "      <td>-21.228014</td>\n",
       "      <td>45.658729</td>\n",
       "      <td>-3.556667</td>\n",
       "      <td>14.976283</td>\n",
       "      <td>-20.659519</td>\n",
       "      <td>19.529804</td>\n",
       "      <td>-21.701568</td>\n",
       "      <td>...</td>\n",
       "      <td>-9.282356</td>\n",
       "      <td>0.813777</td>\n",
       "      <td>-13.018359</td>\n",
       "      <td>0.053168</td>\n",
       "      <td>-8.232851</td>\n",
       "      <td>1.059255</td>\n",
       "      <td>-8.031864</td>\n",
       "      <td>-0.397097</td>\n",
       "      <td>-4.349921</td>\n",
       "      <td>-4.220998</td>\n",
       "    </tr>\n",
       "  </tbody>\n",
       "</table>\n",
       "<p>987 rows × 21 columns</p>\n",
       "</div>"
      ],
      "text/plain": [
       "          tempo  spectral_bandwidth       mfcc1      mfcc3      mfcc4  \\\n",
       "0    103.359375         1956.611056  -26.929785 -46.809993  40.932634   \n",
       "1     95.703125         1497.668176 -233.860772   3.289490  48.931193   \n",
       "2    151.999081         1973.643437 -221.802549  18.620984  30.922996   \n",
       "3    184.570312         1567.804596 -207.208080 -15.438986  60.986727   \n",
       "4    161.499023         2052.332563 -145.434568 -12.517677  56.993472   \n",
       "..          ...                 ...         ...        ...        ...   \n",
       "995  123.046875         2060.825761  -41.402023 -43.945538  54.100395   \n",
       "996  117.453835         2219.090892 -121.410791 -33.497073  41.974745   \n",
       "997  103.359375         1841.748033 -127.946876   1.027332  54.440979   \n",
       "998  112.347147         1653.422860  -98.356322 -46.700574  46.457300   \n",
       "999   75.999540         2175.214294 -245.160921 -21.228014  45.658729   \n",
       "\n",
       "         mfcc5      mfcc6      mfcc7      mfcc8      mfcc9  ...     mfcc11  \\\n",
       "0   -21.463776  24.816275 -18.945571  15.253459 -15.050104  ... -15.234050   \n",
       "1     8.699106  13.954752   5.359449   0.381334 -13.490265  ...   5.145258   \n",
       "2     3.291330  22.587447 -20.418303  12.120995 -26.347956  ... -26.406674   \n",
       "3     0.725807  12.437828   1.183836  -1.540779 -17.888154  ...  -2.452068   \n",
       "4     2.271347  26.591402  -4.274803  17.338809  -7.985593  ...  -6.934599   \n",
       "..         ...        ...        ...        ...        ...  ...        ...   \n",
       "995 -18.411090  23.520838 -17.607988  20.660727 -18.454381  ... -15.174259   \n",
       "996 -25.936361  23.026082 -20.271538  14.354429 -16.350707  ... -16.957086   \n",
       "997  -0.464906  35.829542 -10.860896  16.383278 -10.030961  ...  -6.700004   \n",
       "998 -17.135585  10.505286 -14.554871  16.543108 -12.317913  ... -12.647550   \n",
       "999  -3.556667  14.976283 -20.659519  19.529804 -21.701568  ...  -9.282356   \n",
       "\n",
       "        mfcc12     mfcc13    mfcc14    mfcc15    mfcc16     mfcc17     mfcc18  \\\n",
       "0    14.336612 -13.821769  7.562789 -6.181372  0.330165  -6.829571   0.965922   \n",
       "1    -2.250578   3.959198  5.322555  0.812028 -1.107202  -4.556555  -2.436490   \n",
       "2   -13.037723 -12.652228 -1.821905 -7.260097 -6.660252 -14.682694 -11.719264   \n",
       "3    -0.613248   0.384877  2.605128 -5.188924 -9.527455  -9.244394  -2.848274   \n",
       "4     7.457218 -10.470444 -2.360483 -6.783623  2.671134  -4.760879  -0.949005   \n",
       "..         ...        ...       ...       ...       ...        ...        ...   \n",
       "995  11.303100 -14.155566  2.824157 -9.477822  3.331261  -8.200088   3.693091   \n",
       "996   9.149520 -10.112054  4.211237 -9.349345  1.609701 -10.553566   1.066489   \n",
       "997  11.043714  -8.385375  2.111019 -6.338260  0.997383  -5.325869  -0.842192   \n",
       "998   2.945863 -12.509212  0.091337 -0.774780 -5.700102  -8.630916  -1.903803   \n",
       "999   0.813777 -13.018359  0.053168 -8.232851  1.059255  -8.031864  -0.397097   \n",
       "\n",
       "        mfcc19     mfcc20  \n",
       "0    -7.570825   2.918987  \n",
       "1     3.316913  -0.608485  \n",
       "2   -11.025216 -13.387260  \n",
       "3    -1.418707  -5.932607  \n",
       "4     0.024832  -2.005315  \n",
       "..         ...        ...  \n",
       "995  -3.673562  -0.163201  \n",
       "996  -1.654875   7.544224  \n",
       "997  -4.665996  -4.787677  \n",
       "998  -2.196753  -3.395148  \n",
       "999  -4.349921  -4.220998  \n",
       "\n",
       "[987 rows x 21 columns]"
      ]
     },
     "execution_count": 27,
     "metadata": {},
     "output_type": "execute_result"
    }
   ],
   "source": [
    "data"
   ]
  },
  {
   "cell_type": "code",
   "execution_count": 28,
   "id": "3b5ac31e",
   "metadata": {},
   "outputs": [
    {
     "name": "stdout",
     "output_type": "stream",
     "text": [
      "Training Data\n",
      "Shape of X_train (740, 21)\n",
      "Shape of y_train (740,)\n"
     ]
    }
   ],
   "source": [
    "# print the shape of the training data\n",
    "\n",
    "print(\"Training Data\")\n",
    "print(\"Shape of X_train\", X_train.shape)\n",
    "print(\"Shape of y_train\", y_train.shape)\n"
   ]
  },
  {
   "cell_type": "code",
   "execution_count": 29,
   "id": "105b0490",
   "metadata": {},
   "outputs": [
    {
     "name": "stdout",
     "output_type": "stream",
     "text": [
      "Test Data\n",
      "Shape of X_test (247, 21)\n",
      "Shape of y_test (247,)\n"
     ]
    }
   ],
   "source": [
    "# print the shape of the test data \n",
    "\n",
    "print(\"Test Data\")\n",
    "print(\"Shape of X_test\", X_test.shape)\n",
    "print(\"Shape of y_test\", y_test.shape)"
   ]
  },
  {
   "cell_type": "markdown",
   "id": "24924f54",
   "metadata": {},
   "source": [
    "# Model Training and Performance Evaluation"
   ]
  },
  {
   "cell_type": "markdown",
   "id": "ed37091f",
   "metadata": {},
   "source": [
    "Decision Tree Classifier"
   ]
  },
  {
   "cell_type": "code",
   "execution_count": 30,
   "id": "c6229aa4",
   "metadata": {},
   "outputs": [],
   "source": [
    "#Lets try a decision tree classifier! YEEEEAAA\n",
    "dt = DecisionTreeClassifier()\n",
    "dt.fit(X_train, y_train)\n",
    "y_pred_dt = dt.predict(X_test)\n"
   ]
  },
  {
   "cell_type": "code",
   "execution_count": 31,
   "id": "6e7bb886",
   "metadata": {},
   "outputs": [
    {
     "name": "stdout",
     "output_type": "stream",
     "text": [
      "first five predicted values: [6 4 9 3 1]\n",
      "first five actual values: [6, 4, 9, 6, 1]\n"
     ]
    }
   ],
   "source": [
    "# Print the first five predicted vs actual values\n",
    "print(\"first five predicted values:\", y_pred_dt[0:5])\n",
    "print(\"first five actual values:\", list(y_test[0:5]))"
   ]
  },
  {
   "cell_type": "code",
   "execution_count": 32,
   "id": "36e2b8df",
   "metadata": {},
   "outputs": [
    {
     "name": "stdout",
     "output_type": "stream",
     "text": [
      "accuracy: 0.41\n",
      "recall: 0.42\n",
      "precision: 0.41\n",
      "f1-score: 0.41\n"
     ]
    }
   ],
   "source": [
    "#Check evaluation matrics test \n",
    "print(\"accuracy:\", round(accuracy_score(y_test, y_pred_dt), 2))\n",
    "print(\"recall:\", round(recall_score(y_test, y_pred_dt, average = 'macro'), 2))\n",
    "print(\"precision:\", round(precision_score(y_test, y_pred_dt, average = 'macro'), 2))\n",
    "print(\"f1-score:\", round(f1_score(y_test,y_pred_dt, average = 'macro'), 2))"
   ]
  },
  {
   "cell_type": "code",
   "execution_count": 33,
   "id": "2ee4fe36",
   "metadata": {},
   "outputs": [
    {
     "name": "stderr",
     "output_type": "stream",
     "text": [
      "C:\\Users\\HP\\miniconda3\\envs\\newenv\\lib\\site-packages\\sklearn\\utils\\deprecation.py:87: FutureWarning: Function plot_confusion_matrix is deprecated; Function `plot_confusion_matrix` is deprecated in 1.0 and will be removed in 1.2. Use one of the class methods: ConfusionMatrixDisplay.from_predictions or ConfusionMatrixDisplay.from_estimator.\n",
      "  warnings.warn(msg, category=FutureWarning)\n"
     ]
    },
    {
     "data": {
      "image/png": "[encoded data removed]",
      "text/plain": [
       "<Figure size 1440x1440 with 2 Axes>"
      ]
     },
     "metadata": {
      "needs_background": "light"
     },
     "output_type": "display_data"
    }
   ],
   "source": [
    "#Confusion matrix\n",
    "plot_confusion_matrix(dt, \n",
    "                      X_test, \n",
    "                      y_test,\n",
    "                      cmap = plt.cm.Blues);"
   ]
  },
  {
   "cell_type": "code",
   "execution_count": 34,
   "id": "1c017d5d",
   "metadata": {},
   "outputs": [
    {
     "data": {
      "image/png": "[encoded data removed]",
      "text/plain": [
       "<Figure size 360x360 with 1 Axes>"
      ]
     },
     "metadata": {
      "needs_background": "light"
     },
     "output_type": "display_data"
    }
   ],
   "source": [
    "#Plot learning curve\n",
    "learning_curve_plot(dt, X_train, y_train,None)"
   ]
  },
  {
   "cell_type": "markdown",
   "id": "0bebabc2",
   "metadata": {},
   "source": [
    "XGBoost Classifier"
   ]
  },
  {
   "cell_type": "code",
   "execution_count": 35,
   "id": "edfaf605",
   "metadata": {},
   "outputs": [
    {
     "name": "stderr",
     "output_type": "stream",
     "text": [
      "C:\\Users\\HP\\miniconda3\\envs\\newenv\\lib\\site-packages\\xgboost\\sklearn.py:1224: UserWarning: The use of label encoder in XGBClassifier is deprecated and will be removed in a future release. To remove this warning, do the following: 1) Pass option use_label_encoder=False when constructing XGBClassifier object; and 2) Encode your labels (y) as integers starting with 0, i.e. 0, 1, 2, ..., [num_class - 1].\n",
      "  warnings.warn(label_encoder_deprecation_msg, UserWarning)\n"
     ]
    }
   ],
   "source": [
    "#Now let's try with XGBoot classifier\n",
    "xgb_model = XGBClassifier(max_depth = 5, eval_metric='mlogloss')\n",
    "xgb_model.fit(X_train, y_train)\n",
    "xgb_predictions = xgb_model.predict(X_test)"
   ]
  },
  {
   "cell_type": "code",
   "execution_count": 36,
   "id": "1ba48d68",
   "metadata": {},
   "outputs": [
    {
     "name": "stdout",
     "output_type": "stream",
     "text": [
      "first five predicted values: [6 8 9 6 1]\n",
      "first five actual values: [6, 4, 9, 6, 1]\n"
     ]
    }
   ],
   "source": [
    "# Print the first five predicted vs actual values\n",
    "print(\"first five predicted values:\", xgb_predictions[0:5])\n",
    "print(\"first five actual values:\", list(y_test[0:5]))"
   ]
  },
  {
   "cell_type": "code",
   "execution_count": 37,
   "id": "7ecc835a",
   "metadata": {},
   "outputs": [
    {
     "name": "stdout",
     "output_type": "stream",
     "text": [
      "accuracy: 0.54\n",
      "recall: 0.57\n",
      "precision: 0.53\n",
      "f1-score: 0.54\n"
     ]
    }
   ],
   "source": [
    "#Check evaluation matrics\n",
    "print(\"accuracy:\", round(accuracy_score(y_test, xgb_predictions), 2))\n",
    "print(\"recall:\", round(recall_score(y_test, xgb_predictions, average = 'macro'), 2))\n",
    "print(\"precision:\", round(precision_score(y_test, xgb_predictions, average = 'macro'), 2))\n",
    "print(\"f1-score:\", round(f1_score(y_test,xgb_predictions, average = 'macro'), 2))"
   ]
  },
  {
   "cell_type": "code",
   "execution_count": 38,
   "id": "62a00150",
   "metadata": {},
   "outputs": [
    {
     "name": "stderr",
     "output_type": "stream",
     "text": [
      "C:\\Users\\HP\\miniconda3\\envs\\newenv\\lib\\site-packages\\sklearn\\utils\\deprecation.py:87: FutureWarning: Function plot_confusion_matrix is deprecated; Function `plot_confusion_matrix` is deprecated in 1.0 and will be removed in 1.2. Use one of the class methods: ConfusionMatrixDisplay.from_predictions or ConfusionMatrixDisplay.from_estimator.\n",
      "  warnings.warn(msg, category=FutureWarning)\n"
     ]
    },
    {
     "data": {
      "image/png": "[encoded data removed]",
      "text/plain": [
       "<Figure size 1440x1440 with 2 Axes>"
      ]
     },
     "metadata": {
      "needs_background": "light"
     },
     "output_type": "display_data"
    }
   ],
   "source": [
    "#Confussion matrix\n",
    "plot_confusion_matrix(xgb_model, \n",
    "                      X_test, \n",
    "                      y_test,\n",
    "                      cmap = plt.cm.Blues);"
   ]
  },
  {
   "cell_type": "code",
   "execution_count": 39,
   "id": "a80b1d89",
   "metadata": {},
   "outputs": [
    {
     "data": {
      "image/png": "[encoded data removed]",
      "text/plain": [
       "<Figure size 360x360 with 1 Axes>"
      ]
     },
     "metadata": {
      "needs_background": "light"
     },
     "output_type": "display_data"
    }
   ],
   "source": [
    "#Plot learning curve\n",
    "learning_curve_plot(xgb_model, X_train, y_train,None)"
   ]
  },
  {
   "cell_type": "code",
   "execution_count": 40,
   "id": "3853d3a6",
   "metadata": {},
   "outputs": [],
   "source": [
    "#It is improving, but still not what we want"
   ]
  },
  {
   "cell_type": "markdown",
   "id": "1cf4387b",
   "metadata": {},
   "source": [
    "Random Forest Classifier"
   ]
  },
  {
   "cell_type": "code",
   "execution_count": 41,
   "id": "5a8f1345",
   "metadata": {},
   "outputs": [],
   "source": [
    "#Let's try with random forest\n",
    "rforest_model = RandomForestClassifier().fit(X_train, y_train)\n",
    "rforest_predictions = rforest_model.predict(X_test)"
   ]
  },
  {
   "cell_type": "code",
   "execution_count": 42,
   "id": "bf70c69a",
   "metadata": {},
   "outputs": [
    {
     "name": "stdout",
     "output_type": "stream",
     "text": [
      "accuracy: 0.58\n",
      "recall: 0.6\n",
      "precision: 0.58\n",
      "f1-score: 0.58\n"
     ]
    }
   ],
   "source": [
    "#Check evaluation matrix test\n",
    "print(\"accuracy:\", round(accuracy_score(y_test, rforest_predictions), 2))\n",
    "print(\"recall:\", round(recall_score(y_test, rforest_predictions, average = 'macro'), 2))\n",
    "print(\"precision:\", round(precision_score(y_test, rforest_predictions, average = 'macro'), 2))\n",
    "print(\"f1-score:\", round(f1_score(y_test, rforest_predictions, average = 'macro'), 2))\n"
   ]
  },
  {
   "cell_type": "code",
   "execution_count": 43,
   "id": "b4d59f12",
   "metadata": {},
   "outputs": [
    {
     "name": "stderr",
     "output_type": "stream",
     "text": [
      "C:\\Users\\HP\\miniconda3\\envs\\newenv\\lib\\site-packages\\sklearn\\utils\\deprecation.py:87: FutureWarning: Function plot_confusion_matrix is deprecated; Function `plot_confusion_matrix` is deprecated in 1.0 and will be removed in 1.2. Use one of the class methods: ConfusionMatrixDisplay.from_predictions or ConfusionMatrixDisplay.from_estimator.\n",
      "  warnings.warn(msg, category=FutureWarning)\n"
     ]
    },
    {
     "data": {
      "image/png": "[encoded data removed]",
      "text/plain": [
       "<Figure size 1440x1440 with 2 Axes>"
      ]
     },
     "metadata": {
      "needs_background": "light"
     },
     "output_type": "display_data"
    }
   ],
   "source": [
    "#Confusion matrix \n",
    "plot_confusion_matrix(rforest_model, \n",
    "                      X_test, \n",
    "                      y_test,\n",
    "                      cmap = plt.cm.Blues);"
   ]
  },
  {
   "cell_type": "code",
   "execution_count": 44,
   "id": "35796e21",
   "metadata": {},
   "outputs": [
    {
     "name": "stdout",
     "output_type": "stream",
     "text": [
      "              precision    recall  f1-score   support\n",
      "\n",
      "           0       0.72      0.65      0.68        20\n",
      "           1       0.88      0.73      0.80        30\n",
      "           2       0.36      0.59      0.44        17\n",
      "           3       0.54      0.42      0.47        31\n",
      "           4       0.55      0.59      0.57        27\n",
      "           5       0.56      0.52      0.54        27\n",
      "           6       0.91      0.80      0.85        25\n",
      "           7       0.74      0.52      0.61        27\n",
      "           8       0.45      0.56      0.50        27\n",
      "           9       0.29      0.44      0.35        16\n",
      "\n",
      "    accuracy                           0.58       247\n",
      "   macro avg       0.60      0.58      0.58       247\n",
      "weighted avg       0.62      0.58      0.59       247\n",
      "\n"
     ]
    },
    {
     "data": {
      "text/plain": [
       "array(['blues', 'classical', 'country', 'disco', 'hiphop', 'jazz',\n",
       "       'metal', 'pop', 'reggae', 'rock'], dtype=object)"
      ]
     },
     "execution_count": 44,
     "metadata": {},
     "output_type": "execute_result"
    }
   ],
   "source": [
    "#Check with genres are good to be predicted by our model \n",
    "print(classification_report(rforest_predictions, y_test))\n",
    "label_encoder.inverse_transform([0, 1, 2, 3, 4, 5, 6, 7, 8, 9])"
   ]
  },
  {
   "cell_type": "code",
   "execution_count": 45,
   "id": "6cba42ab",
   "metadata": {},
   "outputs": [
    {
     "data": {
      "image/png": "[encoded data removed]",
      "text/plain": [
       "<Figure size 360x360 with 1 Axes>"
      ]
     },
     "metadata": {
      "needs_background": "light"
     },
     "output_type": "display_data"
    }
   ],
   "source": [
    "#Plot learning curve\n",
    "learning_curve_plot(rforest_model, X_train, y_train,None)"
   ]
  },
  {
   "cell_type": "markdown",
   "id": "447cd634",
   "metadata": {},
   "source": [
    "# Feature importance plot"
   ]
  },
  {
   "cell_type": "code",
   "execution_count": 46,
   "id": "71d3ef62",
   "metadata": {},
   "outputs": [
    {
     "data": {
      "image/png": "[encoded data removed]",
      "text/plain": [
       "<Figure size 576x360 with 1 Axes>"
      ]
     },
     "metadata": {
      "needs_background": "light"
     },
     "output_type": "display_data"
    }
   ],
   "source": [
    "#Decision Tree\n",
    "feature_importance_plot(dt, X_train, 10)"
   ]
  },
  {
   "cell_type": "code",
   "execution_count": 47,
   "id": "c3b1ace5",
   "metadata": {},
   "outputs": [
    {
     "data": {
      "image/png": "[encoded data removed]",
      "text/plain": [
       "<Figure size 576x360 with 1 Axes>"
      ]
     },
     "metadata": {
      "needs_background": "light"
     },
     "output_type": "display_data"
    }
   ],
   "source": [
    "#XGBoost\n",
    "feature_importance_plot(xgb_model, X_train, 10)"
   ]
  },
  {
   "cell_type": "code",
   "execution_count": 48,
   "id": "166bd30c",
   "metadata": {},
   "outputs": [
    {
     "data": {
      "image/png": "[encoded data removed]",
      "text/plain": [
       "<Figure size 576x360 with 1 Axes>"
      ]
     },
     "metadata": {
      "needs_background": "light"
     },
     "output_type": "display_data"
    }
   ],
   "source": [
    "#Random Forest\n",
    "feature_importance_plot(rforest_model, X_train, 10)"
   ]
  },
  {
   "cell_type": "markdown",
   "id": "344f54b0",
   "metadata": {},
   "source": [
    "# Hyperparameter Tuning"
   ]
  },
  {
   "cell_type": "code",
   "execution_count": 49,
   "id": "8aeaec33",
   "metadata": {},
   "outputs": [
    {
     "name": "stdout",
     "output_type": "stream",
     "text": [
      "Fitting 5 folds for each of 50 candidates, totalling 250 fits\n"
     ]
    },
    {
     "data": {
      "text/plain": [
       "RandomizedSearchCV(cv=5, estimator=RandomForestClassifier(random_state=0),\n",
       "                   n_iter=50, n_jobs=-1,\n",
       "                   param_distributions={'max_features': array([0.1 , 0.15, 0.2 , 0.25, 0.3 , 0.35, 0.4 , 0.45, 0.5 , 0.55, 0.6 ,\n",
       "       0.65, 0.7 , 0.75, 0.8 , 0.85, 0.9 , 0.95]),\n",
       "                                        'n_estimators': array([ 5, 10, 15, 20, 25, 30, 35, 40, 45, 50, 55, 60, 65, 70, 75, 80, 85,\n",
       "       90, 95])},\n",
       "                   random_state=0, scoring='r2', verbose=1)"
      ]
     },
     "execution_count": 49,
     "metadata": {},
     "output_type": "execute_result"
    }
   ],
   "source": [
    "#Let's search for the best parametes\n",
    "random_search = RandomizedSearchCV(RandomForestClassifier(random_state=0),\n",
    "                           {\n",
    "                              'n_estimators':np.arange(5,100,5),\n",
    "                              'max_features':np.arange(0.1,1.0,0.05),\n",
    "                            },cv=5, scoring=\"r2\",verbose=1,n_jobs=-1, \n",
    "                             n_iter=50, random_state = 0\n",
    "                           )\n",
    "random_search.fit(X_train,y_train)"
   ]
  },
  {
   "cell_type": "code",
   "execution_count": 50,
   "id": "41d58f46",
   "metadata": {},
   "outputs": [
    {
     "data": {
      "text/plain": [
       "{'n_estimators': 95, 'max_features': 0.15000000000000002}"
      ]
     },
     "execution_count": 50,
     "metadata": {},
     "output_type": "execute_result"
    }
   ],
   "source": [
    "#Let's search for the best parametes to tune\n",
    "random_search.best_params_\n"
   ]
  },
  {
   "cell_type": "code",
   "execution_count": 51,
   "id": "88342695",
   "metadata": {},
   "outputs": [
    {
     "data": {
      "text/plain": [
       "0.09845953912035635"
      ]
     },
     "execution_count": 51,
     "metadata": {},
     "output_type": "execute_result"
    }
   ],
   "source": [
    "#What will be the best score\n",
    "random_search.best_score_"
   ]
  },
  {
   "cell_type": "markdown",
   "id": "17481dd9",
   "metadata": {},
   "source": [
    "# Random Forest Classifier. Second Iteration"
   ]
  },
  {
   "cell_type": "code",
   "execution_count": 52,
   "id": "19579151",
   "metadata": {},
   "outputs": [],
   "source": [
    "#Let's try random forest with the new parametes\n",
    "rforest_model = RandomForestClassifier(**random_search.best_params_).fit(X_train, y_train)\n",
    "rforest_predictions = rforest_model.predict(X_test)"
   ]
  },
  {
   "cell_type": "code",
   "execution_count": 53,
   "id": "513ffeed",
   "metadata": {},
   "outputs": [
    {
     "name": "stdout",
     "output_type": "stream",
     "text": [
      "first five predicted values: [6 4 9 6 1]\n",
      "first five actual values: [6, 4, 9, 6, 1]\n"
     ]
    }
   ],
   "source": [
    "# Print the first five predicted vs actual values\n",
    "print(\"first five predicted values:\", rforest_predictions[0:5])\n",
    "print(\"first five actual values:\", list(y_test[0:5]))"
   ]
  },
  {
   "cell_type": "code",
   "execution_count": 54,
   "id": "fb2ad41c",
   "metadata": {},
   "outputs": [
    {
     "name": "stdout",
     "output_type": "stream",
     "text": [
      "accuracy: 0.61\n",
      "recall: 0.63\n",
      "precision: 0.61\n",
      "f1-score: 0.61\n"
     ]
    }
   ],
   "source": [
    "#Check evaluation matrix test\n",
    "print(\"accuracy:\", round(accuracy_score(y_test, rforest_predictions), 2))\n",
    "print(\"recall:\", round(recall_score(y_test, rforest_predictions, average = 'macro'), 2))\n",
    "print(\"precision:\", round(precision_score(y_test, rforest_predictions, average = 'macro'), 2))\n",
    "print(\"f1-score:\", round(f1_score(y_test, rforest_predictions, average = 'macro'), 2))"
   ]
  },
  {
   "cell_type": "code",
   "execution_count": 55,
   "id": "3bf51db9",
   "metadata": {},
   "outputs": [],
   "source": [
    "#Our model improved in accuracy, precision and f1 score!"
   ]
  },
  {
   "cell_type": "code",
   "execution_count": 56,
   "id": "a641e16d",
   "metadata": {},
   "outputs": [
    {
     "name": "stderr",
     "output_type": "stream",
     "text": [
      "C:\\Users\\HP\\miniconda3\\envs\\newenv\\lib\\site-packages\\sklearn\\utils\\deprecation.py:87: FutureWarning: Function plot_confusion_matrix is deprecated; Function `plot_confusion_matrix` is deprecated in 1.0 and will be removed in 1.2. Use one of the class methods: ConfusionMatrixDisplay.from_predictions or ConfusionMatrixDisplay.from_estimator.\n",
      "  warnings.warn(msg, category=FutureWarning)\n"
     ]
    },
    {
     "data": {
      "image/png": "[encoded data removed]",
      "text/plain": [
       "<Figure size 1440x1440 with 2 Axes>"
      ]
     },
     "metadata": {
      "needs_background": "light"
     },
     "output_type": "display_data"
    }
   ],
   "source": [
    "#We check the confusion matrix again\n",
    "plot_confusion_matrix(rforest_model, \n",
    "                      X_test, \n",
    "                      y_test,\n",
    "                      cmap = plt.cm.Blues);"
   ]
  },
  {
   "cell_type": "code",
   "execution_count": 57,
   "id": "8c5f7e92",
   "metadata": {},
   "outputs": [
    {
     "name": "stdout",
     "output_type": "stream",
     "text": [
      "              precision    recall  f1-score   support\n",
      "\n",
      "           0       0.67      0.67      0.67        18\n",
      "           1       0.88      0.71      0.79        31\n",
      "           2       0.50      0.70      0.58        20\n",
      "           3       0.58      0.47      0.52        30\n",
      "           4       0.59      0.59      0.59        29\n",
      "           5       0.48      0.55      0.51        22\n",
      "           6       0.95      0.81      0.88        26\n",
      "           7       0.79      0.54      0.64        28\n",
      "           8       0.48      0.62      0.54        26\n",
      "           9       0.33      0.47      0.39        17\n",
      "\n",
      "    accuracy                           0.61       247\n",
      "   macro avg       0.63      0.61      0.61       247\n",
      "weighted avg       0.65      0.61      0.62       247\n",
      "\n"
     ]
    },
    {
     "data": {
      "text/plain": [
       "array(['blues', 'classical', 'country', 'disco', 'hiphop', 'jazz',\n",
       "       'metal', 'pop', 'reggae', 'rock'], dtype=object)"
      ]
     },
     "execution_count": 57,
     "metadata": {},
     "output_type": "execute_result"
    }
   ],
   "source": [
    "#Check with genres are good to be predicted by our model \n",
    "print(classification_report(rforest_predictions, y_test))\n",
    "label_encoder.inverse_transform([0, 1, 2, 3, 4, 5, 6, 7, 8, 9])"
   ]
  },
  {
   "cell_type": "code",
   "execution_count": 58,
   "id": "4b342545",
   "metadata": {},
   "outputs": [
    {
     "data": {
      "image/png": "[encoded data removed]",
      "text/plain": [
       "<Figure size 360x360 with 1 Axes>"
      ]
     },
     "metadata": {
      "needs_background": "light"
     },
     "output_type": "display_data"
    }
   ],
   "source": [
    "#Plot the learning curve again\n",
    "learning_curve_plot(rforest_model, X_train, y_train,None)"
   ]
  },
  {
   "cell_type": "code",
   "execution_count": null,
   "id": "8d92267f",
   "metadata": {},
   "outputs": [],
   "source": []
  }
 ],
 "metadata": {
  "kernelspec": {
   "display_name": "Python 3 (ipykernel)",
   "language": "python",
   "name": "python3"
  },
  "language_info": {
   "codemirror_mode": {
    "name": "ipython",
    "version": 3
   },
   "file_extension": ".py",
   "mimetype": "text/x-python",
   "name": "python",
   "nbconvert_exporter": "python",
   "pygments_lexer": "ipython3",
   "version": "3.8.11"
  }
 },
 "nbformat": 4,
 "nbformat_minor": 5
}
